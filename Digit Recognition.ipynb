{
 "cells": [
  {
   "cell_type": "code",
   "execution_count": 1,
   "metadata": {
    "id": "JZcnex4bUR5V"
   },
   "outputs": [],
   "source": [
    "import numpy as np\n",
    "import pandas as pd\n",
    "import seaborn as sns\n",
    "from keras.utils.np_utils import to_categorical\n",
    "from keras.models import Sequential\n",
    "from keras.layers import Dense, Conv2D, Flatten\n",
    "import tensorflow as tf\n",
    "from tensorflow.keras import datasets, layers, models"
   ]
  },
  {
   "cell_type": "code",
   "execution_count": 2,
   "metadata": {
    "colab": {
     "base_uri": "https://localhost:8080/",
     "height": 279
    },
    "id": "Cj2wOQ_1niqp",
    "outputId": "aea0855a-c496-4ce9-dc68-024b2b21e0fd"
   },
   "outputs": [
    {
     "data": {
      "text/html": [
       "<div>\n",
       "<style scoped>\n",
       "    .dataframe tbody tr th:only-of-type {\n",
       "        vertical-align: middle;\n",
       "    }\n",
       "\n",
       "    .dataframe tbody tr th {\n",
       "        vertical-align: top;\n",
       "    }\n",
       "\n",
       "    .dataframe thead th {\n",
       "        text-align: right;\n",
       "    }\n",
       "</style>\n",
       "<table border=\"1\" class=\"dataframe\">\n",
       "  <thead>\n",
       "    <tr style=\"text-align: right;\">\n",
       "      <th></th>\n",
       "      <th>Label</th>\n",
       "      <th>pixel0</th>\n",
       "      <th>pixel1</th>\n",
       "      <th>pixel2</th>\n",
       "      <th>pixel3</th>\n",
       "      <th>pixel4</th>\n",
       "      <th>pixel5</th>\n",
       "      <th>pixel6</th>\n",
       "      <th>pixel7</th>\n",
       "      <th>pixel8</th>\n",
       "      <th>...</th>\n",
       "      <th>pixel774</th>\n",
       "      <th>pixel775</th>\n",
       "      <th>pixel776</th>\n",
       "      <th>pixel777</th>\n",
       "      <th>pixel778</th>\n",
       "      <th>pixel779</th>\n",
       "      <th>pixel780</th>\n",
       "      <th>pixel781</th>\n",
       "      <th>pixel782</th>\n",
       "      <th>pixel783</th>\n",
       "    </tr>\n",
       "  </thead>\n",
       "  <tbody>\n",
       "    <tr>\n",
       "      <th>0</th>\n",
       "      <td>1</td>\n",
       "      <td>0</td>\n",
       "      <td>0</td>\n",
       "      <td>0</td>\n",
       "      <td>0</td>\n",
       "      <td>0</td>\n",
       "      <td>0</td>\n",
       "      <td>0</td>\n",
       "      <td>0</td>\n",
       "      <td>0</td>\n",
       "      <td>...</td>\n",
       "      <td>0</td>\n",
       "      <td>0</td>\n",
       "      <td>0</td>\n",
       "      <td>0</td>\n",
       "      <td>0</td>\n",
       "      <td>0</td>\n",
       "      <td>0</td>\n",
       "      <td>0</td>\n",
       "      <td>0</td>\n",
       "      <td>0</td>\n",
       "    </tr>\n",
       "    <tr>\n",
       "      <th>1</th>\n",
       "      <td>0</td>\n",
       "      <td>0</td>\n",
       "      <td>0</td>\n",
       "      <td>0</td>\n",
       "      <td>0</td>\n",
       "      <td>0</td>\n",
       "      <td>0</td>\n",
       "      <td>0</td>\n",
       "      <td>0</td>\n",
       "      <td>0</td>\n",
       "      <td>...</td>\n",
       "      <td>0</td>\n",
       "      <td>0</td>\n",
       "      <td>0</td>\n",
       "      <td>0</td>\n",
       "      <td>0</td>\n",
       "      <td>0</td>\n",
       "      <td>0</td>\n",
       "      <td>0</td>\n",
       "      <td>0</td>\n",
       "      <td>0</td>\n",
       "    </tr>\n",
       "    <tr>\n",
       "      <th>2</th>\n",
       "      <td>1</td>\n",
       "      <td>0</td>\n",
       "      <td>0</td>\n",
       "      <td>0</td>\n",
       "      <td>0</td>\n",
       "      <td>0</td>\n",
       "      <td>0</td>\n",
       "      <td>0</td>\n",
       "      <td>0</td>\n",
       "      <td>0</td>\n",
       "      <td>...</td>\n",
       "      <td>0</td>\n",
       "      <td>0</td>\n",
       "      <td>0</td>\n",
       "      <td>0</td>\n",
       "      <td>0</td>\n",
       "      <td>0</td>\n",
       "      <td>0</td>\n",
       "      <td>0</td>\n",
       "      <td>0</td>\n",
       "      <td>0</td>\n",
       "    </tr>\n",
       "    <tr>\n",
       "      <th>3</th>\n",
       "      <td>4</td>\n",
       "      <td>0</td>\n",
       "      <td>0</td>\n",
       "      <td>0</td>\n",
       "      <td>0</td>\n",
       "      <td>0</td>\n",
       "      <td>0</td>\n",
       "      <td>0</td>\n",
       "      <td>0</td>\n",
       "      <td>0</td>\n",
       "      <td>...</td>\n",
       "      <td>0</td>\n",
       "      <td>0</td>\n",
       "      <td>0</td>\n",
       "      <td>0</td>\n",
       "      <td>0</td>\n",
       "      <td>0</td>\n",
       "      <td>0</td>\n",
       "      <td>0</td>\n",
       "      <td>0</td>\n",
       "      <td>0</td>\n",
       "    </tr>\n",
       "    <tr>\n",
       "      <th>4</th>\n",
       "      <td>0</td>\n",
       "      <td>0</td>\n",
       "      <td>0</td>\n",
       "      <td>0</td>\n",
       "      <td>0</td>\n",
       "      <td>0</td>\n",
       "      <td>0</td>\n",
       "      <td>0</td>\n",
       "      <td>0</td>\n",
       "      <td>0</td>\n",
       "      <td>...</td>\n",
       "      <td>0</td>\n",
       "      <td>0</td>\n",
       "      <td>0</td>\n",
       "      <td>0</td>\n",
       "      <td>0</td>\n",
       "      <td>0</td>\n",
       "      <td>0</td>\n",
       "      <td>0</td>\n",
       "      <td>0</td>\n",
       "      <td>0</td>\n",
       "    </tr>\n",
       "  </tbody>\n",
       "</table>\n",
       "<p>5 rows × 785 columns</p>\n",
       "</div>"
      ],
      "text/plain": [
       "   Label  pixel0  pixel1  pixel2  pixel3  pixel4  pixel5  pixel6  pixel7  \\\n",
       "0      1       0       0       0       0       0       0       0       0   \n",
       "1      0       0       0       0       0       0       0       0       0   \n",
       "2      1       0       0       0       0       0       0       0       0   \n",
       "3      4       0       0       0       0       0       0       0       0   \n",
       "4      0       0       0       0       0       0       0       0       0   \n",
       "\n",
       "   pixel8  ...  pixel774  pixel775  pixel776  pixel777  pixel778  pixel779  \\\n",
       "0       0  ...         0         0         0         0         0         0   \n",
       "1       0  ...         0         0         0         0         0         0   \n",
       "2       0  ...         0         0         0         0         0         0   \n",
       "3       0  ...         0         0         0         0         0         0   \n",
       "4       0  ...         0         0         0         0         0         0   \n",
       "\n",
       "   pixel780  pixel781  pixel782  pixel783  \n",
       "0         0         0         0         0  \n",
       "1         0         0         0         0  \n",
       "2         0         0         0         0  \n",
       "3         0         0         0         0  \n",
       "4         0         0         0         0  \n",
       "\n",
       "[5 rows x 785 columns]"
      ]
     },
     "execution_count": 2,
     "metadata": {},
     "output_type": "execute_result"
    }
   ],
   "source": [
    "data=pd.read_csv(\"dataset.csv\")\n",
    "data.head(5)"
   ]
  },
  {
   "cell_type": "code",
   "execution_count": 3,
   "metadata": {
    "colab": {
     "base_uri": "https://localhost:8080/"
    },
    "id": "P5Lzk8scnuAM",
    "outputId": "8be7d6ac-8f4b-4d21-f8c8-59bc430cd4d6"
   },
   "outputs": [
    {
     "data": {
      "text/plain": [
       "(6000, 785)"
      ]
     },
     "execution_count": 3,
     "metadata": {},
     "output_type": "execute_result"
    }
   ],
   "source": [
    "data.shape"
   ]
  },
  {
   "cell_type": "code",
   "execution_count": 4,
   "metadata": {
    "colab": {
     "base_uri": "https://localhost:8080/"
    },
    "id": "_IcyniPerEoa",
    "outputId": "8728f871-57dd-4b06-a2ce-5e16d8b98215"
   },
   "outputs": [
    {
     "data": {
      "text/plain": [
       "Label       int64\n",
       "pixel0      int64\n",
       "pixel1      int64\n",
       "pixel2      int64\n",
       "pixel3      int64\n",
       "            ...  \n",
       "pixel779    int64\n",
       "pixel780    int64\n",
       "pixel781    int64\n",
       "pixel782    int64\n",
       "pixel783    int64\n",
       "Length: 785, dtype: object"
      ]
     },
     "execution_count": 4,
     "metadata": {},
     "output_type": "execute_result"
    }
   ],
   "source": [
    "data.dtypes"
   ]
  },
  {
   "cell_type": "code",
   "execution_count": 5,
   "metadata": {
    "colab": {
     "base_uri": "https://localhost:8080/"
    },
    "id": "kJeYOw1HTjzA",
    "outputId": "38c774f3-01e3-4de3-a4fa-eef3903abf19"
   },
   "outputs": [
    {
     "data": {
      "text/plain": [
       "Label       0\n",
       "pixel0      0\n",
       "pixel1      0\n",
       "pixel2      0\n",
       "pixel3      0\n",
       "           ..\n",
       "pixel779    0\n",
       "pixel780    0\n",
       "pixel781    0\n",
       "pixel782    0\n",
       "pixel783    0\n",
       "Length: 785, dtype: int64"
      ]
     },
     "execution_count": 5,
     "metadata": {},
     "output_type": "execute_result"
    }
   ],
   "source": [
    "data.isnull().sum()"
   ]
  },
  {
   "cell_type": "code",
   "execution_count": 6,
   "metadata": {
    "colab": {
     "base_uri": "https://localhost:8080/",
     "height": 472
    },
    "id": "JpKW03kFnyRx",
    "outputId": "eef9970e-8320-4548-e745-c86ab03a9183"
   },
   "outputs": [
    {
     "data": {
      "image/png": "[encoded data removed]",
      "text/plain": [
       "<Figure size 640x480 with 1 Axes>"
      ]
     },
     "metadata": {},
     "output_type": "display_data"
    }
   ],
   "source": [
    "import matplotlib.pyplot as plt\n",
    "plt.hist(data[\"Label\"])\n",
    "plt.title(\"Frequency Histogram of Numbers in Training Data\")\n",
    "plt.xlabel(\"Number Value\")\n",
    "plt.ylabel(\"Frequency\")\n",
    "plt.show()"
   ]
  },
  {
   "cell_type": "code",
   "execution_count": 7,
   "metadata": {
    "id": "Y0s26Y8un43J"
   },
   "outputs": [],
   "source": [
    "y=data['Label']\n",
    "X=data.drop('Label', axis=1)"
   ]
  },
  {
   "cell_type": "code",
   "execution_count": 8,
   "metadata": {
    "id": "3jTleZJZoNt4"
   },
   "outputs": [],
   "source": [
    "#X=X.drop('S.No', axis=1)"
   ]
  },
  {
   "cell_type": "code",
   "execution_count": 9,
   "metadata": {
    "colab": {
     "base_uri": "https://localhost:8080/",
     "height": 299
    },
    "id": "pLuPZfY_x-pv",
    "outputId": "f782a8ec-03ae-47d2-b3da-a536cda766ec"
   },
   "outputs": [
    {
     "data": {
      "text/html": [
       "<div>\n",
       "<style scoped>\n",
       "    .dataframe tbody tr th:only-of-type {\n",
       "        vertical-align: middle;\n",
       "    }\n",
       "\n",
       "    .dataframe tbody tr th {\n",
       "        vertical-align: top;\n",
       "    }\n",
       "\n",
       "    .dataframe thead th {\n",
       "        text-align: right;\n",
       "    }\n",
       "</style>\n",
       "<table border=\"1\" class=\"dataframe\">\n",
       "  <thead>\n",
       "    <tr style=\"text-align: right;\">\n",
       "      <th></th>\n",
       "      <th>pixel0</th>\n",
       "      <th>pixel1</th>\n",
       "      <th>pixel2</th>\n",
       "      <th>pixel3</th>\n",
       "      <th>pixel4</th>\n",
       "      <th>pixel5</th>\n",
       "      <th>pixel6</th>\n",
       "      <th>pixel7</th>\n",
       "      <th>pixel8</th>\n",
       "      <th>pixel9</th>\n",
       "      <th>...</th>\n",
       "      <th>pixel774</th>\n",
       "      <th>pixel775</th>\n",
       "      <th>pixel776</th>\n",
       "      <th>pixel777</th>\n",
       "      <th>pixel778</th>\n",
       "      <th>pixel779</th>\n",
       "      <th>pixel780</th>\n",
       "      <th>pixel781</th>\n",
       "      <th>pixel782</th>\n",
       "      <th>pixel783</th>\n",
       "    </tr>\n",
       "  </thead>\n",
       "  <tbody>\n",
       "    <tr>\n",
       "      <th>0</th>\n",
       "      <td>0</td>\n",
       "      <td>0</td>\n",
       "      <td>0</td>\n",
       "      <td>0</td>\n",
       "      <td>0</td>\n",
       "      <td>0</td>\n",
       "      <td>0</td>\n",
       "      <td>0</td>\n",
       "      <td>0</td>\n",
       "      <td>0</td>\n",
       "      <td>...</td>\n",
       "      <td>0</td>\n",
       "      <td>0</td>\n",
       "      <td>0</td>\n",
       "      <td>0</td>\n",
       "      <td>0</td>\n",
       "      <td>0</td>\n",
       "      <td>0</td>\n",
       "      <td>0</td>\n",
       "      <td>0</td>\n",
       "      <td>0</td>\n",
       "    </tr>\n",
       "    <tr>\n",
       "      <th>1</th>\n",
       "      <td>0</td>\n",
       "      <td>0</td>\n",
       "      <td>0</td>\n",
       "      <td>0</td>\n",
       "      <td>0</td>\n",
       "      <td>0</td>\n",
       "      <td>0</td>\n",
       "      <td>0</td>\n",
       "      <td>0</td>\n",
       "      <td>0</td>\n",
       "      <td>...</td>\n",
       "      <td>0</td>\n",
       "      <td>0</td>\n",
       "      <td>0</td>\n",
       "      <td>0</td>\n",
       "      <td>0</td>\n",
       "      <td>0</td>\n",
       "      <td>0</td>\n",
       "      <td>0</td>\n",
       "      <td>0</td>\n",
       "      <td>0</td>\n",
       "    </tr>\n",
       "    <tr>\n",
       "      <th>2</th>\n",
       "      <td>0</td>\n",
       "      <td>0</td>\n",
       "      <td>0</td>\n",
       "      <td>0</td>\n",
       "      <td>0</td>\n",
       "      <td>0</td>\n",
       "      <td>0</td>\n",
       "      <td>0</td>\n",
       "      <td>0</td>\n",
       "      <td>0</td>\n",
       "      <td>...</td>\n",
       "      <td>0</td>\n",
       "      <td>0</td>\n",
       "      <td>0</td>\n",
       "      <td>0</td>\n",
       "      <td>0</td>\n",
       "      <td>0</td>\n",
       "      <td>0</td>\n",
       "      <td>0</td>\n",
       "      <td>0</td>\n",
       "      <td>0</td>\n",
       "    </tr>\n",
       "    <tr>\n",
       "      <th>3</th>\n",
       "      <td>0</td>\n",
       "      <td>0</td>\n",
       "      <td>0</td>\n",
       "      <td>0</td>\n",
       "      <td>0</td>\n",
       "      <td>0</td>\n",
       "      <td>0</td>\n",
       "      <td>0</td>\n",
       "      <td>0</td>\n",
       "      <td>0</td>\n",
       "      <td>...</td>\n",
       "      <td>0</td>\n",
       "      <td>0</td>\n",
       "      <td>0</td>\n",
       "      <td>0</td>\n",
       "      <td>0</td>\n",
       "      <td>0</td>\n",
       "      <td>0</td>\n",
       "      <td>0</td>\n",
       "      <td>0</td>\n",
       "      <td>0</td>\n",
       "    </tr>\n",
       "    <tr>\n",
       "      <th>4</th>\n",
       "      <td>0</td>\n",
       "      <td>0</td>\n",
       "      <td>0</td>\n",
       "      <td>0</td>\n",
       "      <td>0</td>\n",
       "      <td>0</td>\n",
       "      <td>0</td>\n",
       "      <td>0</td>\n",
       "      <td>0</td>\n",
       "      <td>0</td>\n",
       "      <td>...</td>\n",
       "      <td>0</td>\n",
       "      <td>0</td>\n",
       "      <td>0</td>\n",
       "      <td>0</td>\n",
       "      <td>0</td>\n",
       "      <td>0</td>\n",
       "      <td>0</td>\n",
       "      <td>0</td>\n",
       "      <td>0</td>\n",
       "      <td>0</td>\n",
       "    </tr>\n",
       "  </tbody>\n",
       "</table>\n",
       "<p>5 rows × 784 columns</p>\n",
       "</div>"
      ],
      "text/plain": [
       "   pixel0  pixel1  pixel2  pixel3  pixel4  pixel5  pixel6  pixel7  pixel8  \\\n",
       "0       0       0       0       0       0       0       0       0       0   \n",
       "1       0       0       0       0       0       0       0       0       0   \n",
       "2       0       0       0       0       0       0       0       0       0   \n",
       "3       0       0       0       0       0       0       0       0       0   \n",
       "4       0       0       0       0       0       0       0       0       0   \n",
       "\n",
       "   pixel9  ...  pixel774  pixel775  pixel776  pixel777  pixel778  pixel779  \\\n",
       "0       0  ...         0         0         0         0         0         0   \n",
       "1       0  ...         0         0         0         0         0         0   \n",
       "2       0  ...         0         0         0         0         0         0   \n",
       "3       0  ...         0         0         0         0         0         0   \n",
       "4       0  ...         0         0         0         0         0         0   \n",
       "\n",
       "   pixel780  pixel781  pixel782  pixel783  \n",
       "0         0         0         0         0  \n",
       "1         0         0         0         0  \n",
       "2         0         0         0         0  \n",
       "3         0         0         0         0  \n",
       "4         0         0         0         0  \n",
       "\n",
       "[5 rows x 784 columns]"
      ]
     },
     "execution_count": 9,
     "metadata": {},
     "output_type": "execute_result"
    }
   ],
   "source": [
    "X.head()"
   ]
  },
  {
   "cell_type": "code",
   "execution_count": 10,
   "metadata": {
    "colab": {
     "base_uri": "https://localhost:8080/"
    },
    "id": "5uRiwfKcoW17",
    "outputId": "ab0574d1-9d19-4f25-c388-d812ac802d0f"
   },
   "outputs": [
    {
     "data": {
      "text/plain": [
       "(6000, 784)"
      ]
     },
     "execution_count": 10,
     "metadata": {},
     "output_type": "execute_result"
    }
   ],
   "source": [
    "X.head()\n",
    "X.shape"
   ]
  },
  {
   "cell_type": "code",
   "execution_count": 11,
   "metadata": {
    "colab": {
     "base_uri": "https://localhost:8080/"
    },
    "id": "mePud3-xoYg5",
    "outputId": "c11e9e9d-0b0d-4860-ec2c-39615900d156"
   },
   "outputs": [
    {
     "data": {
      "text/plain": [
       "(6000,)"
      ]
     },
     "execution_count": 11,
     "metadata": {},
     "output_type": "execute_result"
    }
   ],
   "source": [
    "y.head()\n",
    "y.shape"
   ]
  },
  {
   "cell_type": "code",
   "execution_count": 12,
   "metadata": {
    "id": "9Z2a41RHoaAR"
   },
   "outputs": [],
   "source": [
    "from sklearn.model_selection import train_test_split\n",
    "X_train, X_test, y_train, y_test = train_test_split(X, y, train_size = 0.8,random_state = 42)"
   ]
  },
  {
   "cell_type": "code",
   "execution_count": 13,
   "metadata": {
    "colab": {
     "base_uri": "https://localhost:8080/"
    },
    "id": "se3tJgejN6Gr",
    "outputId": "207bbba3-f40b-47f6-ae25-4cc04ffb48bd"
   },
   "outputs": [
    {
     "data": {
      "text/plain": [
       "(4800, 784)"
      ]
     },
     "execution_count": 13,
     "metadata": {},
     "output_type": "execute_result"
    }
   ],
   "source": [
    "X_train.shape"
   ]
  },
  {
   "cell_type": "code",
   "execution_count": 14,
   "metadata": {
    "colab": {
     "base_uri": "https://localhost:8080/"
    },
    "id": "CTsPfZN-N9yn",
    "outputId": "63e8880e-74ad-4f6c-da1b-32eaf11b8f31"
   },
   "outputs": [
    {
     "data": {
      "text/plain": [
       "(1200, 784)"
      ]
     },
     "execution_count": 14,
     "metadata": {},
     "output_type": "execute_result"
    }
   ],
   "source": [
    "X_test.shape"
   ]
  },
  {
   "cell_type": "code",
   "execution_count": 15,
   "metadata": {
    "colab": {
     "base_uri": "https://localhost:8080/"
    },
    "id": "p2Yakh9erNhT",
    "outputId": "5b58965c-27dd-4bba-91e2-322153101802"
   },
   "outputs": [
    {
     "data": {
      "text/plain": [
       "pixel0      int64\n",
       "pixel1      int64\n",
       "pixel2      int64\n",
       "pixel3      int64\n",
       "pixel4      int64\n",
       "            ...  \n",
       "pixel779    int64\n",
       "pixel780    int64\n",
       "pixel781    int64\n",
       "pixel782    int64\n",
       "pixel783    int64\n",
       "Length: 784, dtype: object"
      ]
     },
     "execution_count": 15,
     "metadata": {},
     "output_type": "execute_result"
    }
   ],
   "source": [
    "X_train.dtypes"
   ]
  },
  {
   "cell_type": "code",
   "execution_count": 16,
   "metadata": {
    "id": "-41xVmYQttXU"
   },
   "outputs": [],
   "source": [
    "from sklearn.neighbors import KNeighborsClassifier\n",
    "knn = KNeighborsClassifier()"
   ]
  },
  {
   "cell_type": "code",
   "execution_count": 17,
   "metadata": {
    "colab": {
     "base_uri": "https://localhost:8080/",
     "height": 74
    },
    "id": "Pn7PnLTu5sEA",
    "outputId": "430ecccb-c549-4de5-c3d7-cf1b6b8f35b3"
   },
   "outputs": [
    {
     "data": {
      "text/html": [
       "<style>#sk-container-id-1 {color: black;background-color: white;}#sk-container-id-1 pre{padding: 0;}#sk-container-id-1 div.sk-toggleable {background-color: white;}#sk-container-id-1 label.sk-toggleable__label {cursor: pointer;display: block;width: 100%;margin-bottom: 0;padding: 0.3em;box-sizing: border-box;text-align: center;}#sk-container-id-1 label.sk-toggleable__label-arrow:before {content: \"▸\";float: left;margin-right: 0.25em;color: #696969;}#sk-container-id-1 label.sk-toggleable__label-arrow:hover:before {color: black;}#sk-container-id-1 div.sk-estimator:hover label.sk-toggleable__label-arrow:before {color: black;}#sk-container-id-1 div.sk-toggleable__content {max-height: 0;max-width: 0;overflow: hidden;text-align: left;background-color: #f0f8ff;}#sk-container-id-1 div.sk-toggleable__content pre {margin: 0.2em;color: black;border-radius: 0.25em;background-color: #f0f8ff;}#sk-container-id-1 input.sk-toggleable__control:checked~div.sk-toggleable__content {max-height: 200px;max-width: 100%;overflow: auto;}#sk-container-id-1 input.sk-toggleable__control:checked~label.sk-toggleable__label-arrow:before {content: \"▾\";}#sk-container-id-1 div.sk-estimator input.sk-toggleable__control:checked~label.sk-toggleable__label {background-color: #d4ebff;}#sk-container-id-1 div.sk-label input.sk-toggleable__control:checked~label.sk-toggleable__label {background-color: #d4ebff;}#sk-container-id-1 input.sk-hidden--visually {border: 0;clip: rect(1px 1px 1px 1px);clip: rect(1px, 1px, 1px, 1px);height: 1px;margin: -1px;overflow: hidden;padding: 0;position: absolute;width: 1px;}#sk-container-id-1 div.sk-estimator {font-family: monospace;background-color: #f0f8ff;border: 1px dotted black;border-radius: 0.25em;box-sizing: border-box;margin-bottom: 0.5em;}#sk-container-id-1 div.sk-estimator:hover {background-color: #d4ebff;}#sk-container-id-1 div.sk-parallel-item::after {content: \"\";width: 100%;border-bottom: 1px solid gray;flex-grow: 1;}#sk-container-id-1 div.sk-label:hover label.sk-toggleable__label {background-color: #d4ebff;}#sk-container-id-1 div.sk-serial::before {content: \"\";position: absolute;border-left: 1px solid gray;box-sizing: border-box;top: 0;bottom: 0;left: 50%;z-index: 0;}#sk-container-id-1 div.sk-serial {display: flex;flex-direction: column;align-items: center;background-color: white;padding-right: 0.2em;padding-left: 0.2em;position: relative;}#sk-container-id-1 div.sk-item {position: relative;z-index: 1;}#sk-container-id-1 div.sk-parallel {display: flex;align-items: stretch;justify-content: center;background-color: white;position: relative;}#sk-container-id-1 div.sk-item::before, #sk-container-id-1 div.sk-parallel-item::before {content: \"\";position: absolute;border-left: 1px solid gray;box-sizing: border-box;top: 0;bottom: 0;left: 50%;z-index: -1;}#sk-container-id-1 div.sk-parallel-item {display: flex;flex-direction: column;z-index: 1;position: relative;background-color: white;}#sk-container-id-1 div.sk-parallel-item:first-child::after {align-self: flex-end;width: 50%;}#sk-container-id-1 div.sk-parallel-item:last-child::after {align-self: flex-start;width: 50%;}#sk-container-id-1 div.sk-parallel-item:only-child::after {width: 0;}#sk-container-id-1 div.sk-dashed-wrapped {border: 1px dashed gray;margin: 0 0.4em 0.5em 0.4em;box-sizing: border-box;padding-bottom: 0.4em;background-color: white;}#sk-container-id-1 div.sk-label label {font-family: monospace;font-weight: bold;display: inline-block;line-height: 1.2em;}#sk-container-id-1 div.sk-label-container {text-align: center;}#sk-container-id-1 div.sk-container {/* jupyter's `normalize.less` sets `[hidden] { display: none; }` but bootstrap.min.css set `[hidden] { display: none !important; }` so we also need the `!important` here to be able to override the default hidden behavior on the sphinx rendered scikit-learn.org. See: https://github.com/scikit-learn/scikit-learn/issues/21755 */display: inline-block !important;position: relative;}#sk-container-id-1 div.sk-text-repr-fallback {display: none;}</style><div id=\"sk-container-id-1\" class=\"sk-top-container\"><div class=\"sk-text-repr-fallback\"><pre>KNeighborsClassifier()</pre><b>In a Jupyter environment, please rerun this cell to show the HTML representation or trust the notebook. <br />On GitHub, the HTML representation is unable to render, please try loading this page with nbviewer.org.</b></div><div class=\"sk-container\" hidden><div class=\"sk-item\"><div class=\"sk-estimator sk-toggleable\"><input class=\"sk-toggleable__control sk-hidden--visually\" id=\"sk-estimator-id-1\" type=\"checkbox\" checked><label for=\"sk-estimator-id-1\" class=\"sk-toggleable__label sk-toggleable__label-arrow\">KNeighborsClassifier</label><div class=\"sk-toggleable__content\"><pre>KNeighborsClassifier()</pre></div></div></div></div></div>"
      ],
      "text/plain": [
       "KNeighborsClassifier()"
      ]
     },
     "execution_count": 17,
     "metadata": {},
     "output_type": "execute_result"
    }
   ],
   "source": [
    "knn.fit(X_train,y_train)"
   ]
  },
  {
   "cell_type": "code",
   "execution_count": 18,
   "metadata": {
    "colab": {
     "base_uri": "https://localhost:8080/"
    },
    "id": "Fqet702u53v-",
    "outputId": "8ebcf50f-3de4-4fba-8d7d-96a52571f7e4"
   },
   "outputs": [
    {
     "name": "stdout",
     "output_type": "stream",
     "text": [
      "0.6290366649627686\n",
      "0.9383333333333334\n"
     ]
    }
   ],
   "source": [
    "import time\n",
    "from sklearn import  metrics\n",
    "start = time.time()\n",
    "y_pred = knn.predict(X_test)\n",
    "print(time.time() -start)\n",
    "print(metrics.accuracy_score(y_test,y_pred))"
   ]
  },
  {
   "cell_type": "code",
   "execution_count": 19,
   "metadata": {
    "colab": {
     "base_uri": "https://localhost:8080/"
    },
    "id": "PqXMW1Hs_drW",
    "outputId": "d0fd04bc-9f1e-4b58-cdf6-68d552437c69"
   },
   "outputs": [
    {
     "name": "stdout",
     "output_type": "stream",
     "text": [
      "Classification report for classifier KNeighborsClassifier():\n",
      "              precision    recall  f1-score   support\n",
      "\n",
      "           0       0.97      0.98      0.97       118\n",
      "           1       0.95      0.98      0.96       161\n",
      "           2       0.95      0.91      0.93       112\n",
      "           3       0.94      0.96      0.95       105\n",
      "           4       0.95      0.88      0.91       107\n",
      "           5       0.98      0.95      0.97       103\n",
      "           6       0.94      0.98      0.96       116\n",
      "           7       0.91      0.94      0.93       126\n",
      "           8       0.97      0.88      0.92       140\n",
      "           9       0.84      0.90      0.87       112\n",
      "\n",
      "    accuracy                           0.94      1200\n",
      "   macro avg       0.94      0.94      0.94      1200\n",
      "weighted avg       0.94      0.94      0.94      1200\n",
      "\n",
      "\n"
     ]
    }
   ],
   "source": [
    "from sklearn import  metrics\n",
    "print(\"Classification report for classifier %s:\\n%s\\n\"\n",
    "      % (knn, metrics.classification_report(y_test, y_pred)))"
   ]
  },
  {
   "cell_type": "code",
   "execution_count": 20,
   "metadata": {
    "colab": {
     "base_uri": "https://localhost:8080/",
     "height": 435
    },
    "id": "yvBXI_k8uXR1",
    "outputId": "32d2db5e-2fc8-4029-fd01-d68f5b58017e"
   },
   "outputs": [
    {
     "data": {
      "image/png": "[encoded data removed]",
      "text/plain": [
       "<Figure size 640x480 with 1 Axes>"
      ]
     },
     "metadata": {},
     "output_type": "display_data"
    }
   ],
   "source": [
    "from sklearn import decomposition\n",
    "\n",
    "## PCA decomposition\n",
    "pca = decomposition.PCA(n_components=200) #Finds first 200 PCs\n",
    "pca.fit(X_train)\n",
    "plt.plot(pca.explained_variance_ratio_)\n",
    "plt.ylabel('% of variance explained')\n",
    "plt.show()\n",
    "\n",
    "#plot reaches asymptote at around 100, which is optimal number of PCs to use.\n",
    "\n",
    "## PCA decomposition with optimal number of PCs\n",
    "#decompose train data\n",
    "pca = decomposition.PCA(n_components=100)\n",
    "pca.fit(X_train)\n",
    "PCtrain = pca.transform(X_train)\n",
    "PCval = pca.transform(X_test)\n",
    "\n",
    "#decompose test data\n",
    "#PCtest = pca.transform(X_test)\n"
   ]
  },
  {
   "cell_type": "code",
   "execution_count": 21,
   "metadata": {
    "id": "A71fkBRBuZaz"
   },
   "outputs": [],
   "source": [
    "X_train1= PCtrain"
   ]
  },
  {
   "cell_type": "code",
   "execution_count": 22,
   "metadata": {
    "id": "xAe2i_jx3EWT"
   },
   "outputs": [],
   "source": [
    "X_cv = PCval"
   ]
  },
  {
   "cell_type": "code",
   "execution_count": 23,
   "metadata": {
    "colab": {
     "base_uri": "https://localhost:8080/",
     "height": 74
    },
    "id": "UzcZEvfL3Ga3",
    "outputId": "72100d4f-45dc-4bec-a54c-219d1126581e"
   },
   "outputs": [
    {
     "data": {
      "text/html": [
       "<style>#sk-container-id-2 {color: black;background-color: white;}#sk-container-id-2 pre{padding: 0;}#sk-container-id-2 div.sk-toggleable {background-color: white;}#sk-container-id-2 label.sk-toggleable__label {cursor: pointer;display: block;width: 100%;margin-bottom: 0;padding: 0.3em;box-sizing: border-box;text-align: center;}#sk-container-id-2 label.sk-toggleable__label-arrow:before {content: \"▸\";float: left;margin-right: 0.25em;color: #696969;}#sk-container-id-2 label.sk-toggleable__label-arrow:hover:before {color: black;}#sk-container-id-2 div.sk-estimator:hover label.sk-toggleable__label-arrow:before {color: black;}#sk-container-id-2 div.sk-toggleable__content {max-height: 0;max-width: 0;overflow: hidden;text-align: left;background-color: #f0f8ff;}#sk-container-id-2 div.sk-toggleable__content pre {margin: 0.2em;color: black;border-radius: 0.25em;background-color: #f0f8ff;}#sk-container-id-2 input.sk-toggleable__control:checked~div.sk-toggleable__content {max-height: 200px;max-width: 100%;overflow: auto;}#sk-container-id-2 input.sk-toggleable__control:checked~label.sk-toggleable__label-arrow:before {content: \"▾\";}#sk-container-id-2 div.sk-estimator input.sk-toggleable__control:checked~label.sk-toggleable__label {background-color: #d4ebff;}#sk-container-id-2 div.sk-label input.sk-toggleable__control:checked~label.sk-toggleable__label {background-color: #d4ebff;}#sk-container-id-2 input.sk-hidden--visually {border: 0;clip: rect(1px 1px 1px 1px);clip: rect(1px, 1px, 1px, 1px);height: 1px;margin: -1px;overflow: hidden;padding: 0;position: absolute;width: 1px;}#sk-container-id-2 div.sk-estimator {font-family: monospace;background-color: #f0f8ff;border: 1px dotted black;border-radius: 0.25em;box-sizing: border-box;margin-bottom: 0.5em;}#sk-container-id-2 div.sk-estimator:hover {background-color: #d4ebff;}#sk-container-id-2 div.sk-parallel-item::after {content: \"\";width: 100%;border-bottom: 1px solid gray;flex-grow: 1;}#sk-container-id-2 div.sk-label:hover label.sk-toggleable__label {background-color: #d4ebff;}#sk-container-id-2 div.sk-serial::before {content: \"\";position: absolute;border-left: 1px solid gray;box-sizing: border-box;top: 0;bottom: 0;left: 50%;z-index: 0;}#sk-container-id-2 div.sk-serial {display: flex;flex-direction: column;align-items: center;background-color: white;padding-right: 0.2em;padding-left: 0.2em;position: relative;}#sk-container-id-2 div.sk-item {position: relative;z-index: 1;}#sk-container-id-2 div.sk-parallel {display: flex;align-items: stretch;justify-content: center;background-color: white;position: relative;}#sk-container-id-2 div.sk-item::before, #sk-container-id-2 div.sk-parallel-item::before {content: \"\";position: absolute;border-left: 1px solid gray;box-sizing: border-box;top: 0;bottom: 0;left: 50%;z-index: -1;}#sk-container-id-2 div.sk-parallel-item {display: flex;flex-direction: column;z-index: 1;position: relative;background-color: white;}#sk-container-id-2 div.sk-parallel-item:first-child::after {align-self: flex-end;width: 50%;}#sk-container-id-2 div.sk-parallel-item:last-child::after {align-self: flex-start;width: 50%;}#sk-container-id-2 div.sk-parallel-item:only-child::after {width: 0;}#sk-container-id-2 div.sk-dashed-wrapped {border: 1px dashed gray;margin: 0 0.4em 0.5em 0.4em;box-sizing: border-box;padding-bottom: 0.4em;background-color: white;}#sk-container-id-2 div.sk-label label {font-family: monospace;font-weight: bold;display: inline-block;line-height: 1.2em;}#sk-container-id-2 div.sk-label-container {text-align: center;}#sk-container-id-2 div.sk-container {/* jupyter's `normalize.less` sets `[hidden] { display: none; }` but bootstrap.min.css set `[hidden] { display: none !important; }` so we also need the `!important` here to be able to override the default hidden behavior on the sphinx rendered scikit-learn.org. See: https://github.com/scikit-learn/scikit-learn/issues/21755 */display: inline-block !important;position: relative;}#sk-container-id-2 div.sk-text-repr-fallback {display: none;}</style><div id=\"sk-container-id-2\" class=\"sk-top-container\"><div class=\"sk-text-repr-fallback\"><pre>SVC()</pre><b>In a Jupyter environment, please rerun this cell to show the HTML representation or trust the notebook. <br />On GitHub, the HTML representation is unable to render, please try loading this page with nbviewer.org.</b></div><div class=\"sk-container\" hidden><div class=\"sk-item\"><div class=\"sk-estimator sk-toggleable\"><input class=\"sk-toggleable__control sk-hidden--visually\" id=\"sk-estimator-id-2\" type=\"checkbox\" checked><label for=\"sk-estimator-id-2\" class=\"sk-toggleable__label sk-toggleable__label-arrow\">SVC</label><div class=\"sk-toggleable__content\"><pre>SVC()</pre></div></div></div></div></div>"
      ],
      "text/plain": [
       "SVC()"
      ]
     },
     "execution_count": 23,
     "metadata": {},
     "output_type": "execute_result"
    }
   ],
   "source": [
    "from sklearn.svm import SVC\n",
    "clf = SVC()\n",
    "clf.fit(X_train1,y_train)"
   ]
  },
  {
   "cell_type": "code",
   "execution_count": 24,
   "metadata": {
    "id": "TV1Y37Nc3IR2"
   },
   "outputs": [],
   "source": [
    "predicted = clf.predict(X_cv)\n",
    "expected = y_test"
   ]
  },
  {
   "cell_type": "code",
   "execution_count": 25,
   "metadata": {
    "colab": {
     "base_uri": "https://localhost:8080/"
    },
    "id": "CDuMLh3r3K2l",
    "outputId": "ffeab3a7-c40b-4bf7-e7f0-2874359a5732"
   },
   "outputs": [
    {
     "name": "stdout",
     "output_type": "stream",
     "text": [
      "[6 3 1 4 7 0 2 7 8 9 9 9 7 7 6 1 6 0 8 5 5 5 7 8 6 3 9 0 6 6]\n"
     ]
    }
   ],
   "source": [
    "print(predicted[0:30])"
   ]
  },
  {
   "cell_type": "code",
   "execution_count": 26,
   "metadata": {
    "colab": {
     "base_uri": "https://localhost:8080/"
    },
    "id": "9jkWXbLJ4ZSD",
    "outputId": "5b9f3a9e-514b-411f-cb47-f7d66362d41e"
   },
   "outputs": [
    {
     "name": "stdout",
     "output_type": "stream",
     "text": [
      "1782    6\n",
      "3917    3\n",
      "221     1\n",
      "2135    9\n",
      "5224    7\n",
      "1168    0\n",
      "879     2\n",
      "156     7\n",
      "1657    8\n",
      "323     9\n",
      "5302    9\n",
      "2611    9\n",
      "811     7\n",
      "393     7\n",
      "3593    6\n",
      "2638    1\n",
      "2187    6\n",
      "5351    0\n",
      "319     8\n",
      "167     5\n",
      "746     5\n",
      "5470    5\n",
      "3707    7\n",
      "2764    8\n",
      "5112    6\n",
      "4006    3\n",
      "1871    9\n",
      "5756    0\n",
      "3193    6\n",
      "3754    6\n",
      "Name: Label, dtype: int64\n"
     ]
    },
    {
     "name": "stderr",
     "output_type": "stream",
     "text": [
      "C:\\Users\\Beryl\\AppData\\Local\\Temp\\ipykernel_24616\\530037492.py:1: FutureWarning: The behavior of `series[i:j]` with an integer-dtype index is deprecated. In a future version, this will be treated as *label-based* indexing, consistent with e.g. `series[i]` lookups. To retain the old behavior, use `series.iloc[i:j]`. To get the future behavior, use `series.loc[i:j]`.\n",
      "  print(expected[0:30])\n"
     ]
    }
   ],
   "source": [
    "print(expected[0:30])"
   ]
  },
  {
   "cell_type": "code",
   "execution_count": 27,
   "metadata": {
    "colab": {
     "base_uri": "https://localhost:8080/"
    },
    "id": "jn8CqxiT3Ona",
    "outputId": "0cf413c3-c6b5-48e7-8af0-423efa2bb53c"
   },
   "outputs": [
    {
     "name": "stdout",
     "output_type": "stream",
     "text": [
      "Classification report for classifier SVC():\n",
      "              precision    recall  f1-score   support\n",
      "\n",
      "           0       0.97      0.99      0.98       118\n",
      "           1       0.99      0.98      0.98       161\n",
      "           2       0.91      0.95      0.93       112\n",
      "           3       0.92      0.90      0.91       105\n",
      "           4       0.97      0.94      0.96       107\n",
      "           5       0.99      0.96      0.98       103\n",
      "           6       0.97      0.99      0.98       116\n",
      "           7       0.93      0.96      0.95       126\n",
      "           8       0.95      0.94      0.95       140\n",
      "           9       0.93      0.91      0.92       112\n",
      "\n",
      "    accuracy                           0.95      1200\n",
      "   macro avg       0.95      0.95      0.95      1200\n",
      "weighted avg       0.95      0.95      0.95      1200\n",
      "\n",
      "\n"
     ]
    }
   ],
   "source": [
    "from sklearn import  metrics\n",
    "print(\"Classification report for classifier %s:\\n%s\\n\"\n",
    "      % (clf, metrics.classification_report(expected, predicted)))"
   ]
  },
  {
   "cell_type": "code",
   "execution_count": 28,
   "metadata": {
    "colab": {
     "base_uri": "https://localhost:8080/"
    },
    "id": "1y99ocCY3RSh",
    "outputId": "02c4cf03-a7fc-443e-d51a-efca12389a9b"
   },
   "outputs": [
    {
     "name": "stdout",
     "output_type": "stream",
     "text": [
      "accurcy : 0.9541666666666667\n"
     ]
    }
   ],
   "source": [
    "print('accurcy :',metrics.accuracy_score(expected, predicted))"
   ]
  },
  {
   "cell_type": "code",
   "execution_count": 29,
   "metadata": {
    "colab": {
     "base_uri": "https://localhost:8080/"
    },
    "id": "YPUkC75rNK43",
    "outputId": "aad8b30d-31c6-49c3-dbf2-3781e4fa0c74"
   },
   "outputs": [
    {
     "data": {
      "text/plain": [
       "(4800, 784)"
      ]
     },
     "execution_count": 29,
     "metadata": {},
     "output_type": "execute_result"
    }
   ],
   "source": [
    "X_train.shape"
   ]
  },
  {
   "cell_type": "code",
   "execution_count": 30,
   "metadata": {
    "colab": {
     "base_uri": "https://localhost:8080/"
    },
    "id": "zjLXDFxKNNXK",
    "outputId": "a3235876-c78f-4fa1-a0ba-e5ba28a9a0ff"
   },
   "outputs": [
    {
     "data": {
      "text/plain": [
       "(4800,)"
      ]
     },
     "execution_count": 30,
     "metadata": {},
     "output_type": "execute_result"
    }
   ],
   "source": [
    "y_train.shape"
   ]
  },
  {
   "cell_type": "code",
   "execution_count": 31,
   "metadata": {
    "colab": {
     "base_uri": "https://localhost:8080/"
    },
    "id": "C9MCC-icMo2U",
    "outputId": "4f92c504-40d2-4468-c8a5-e65e973974c3"
   },
   "outputs": [
    {
     "name": "stdout",
     "output_type": "stream",
     "text": [
      "Decision Tree Accuracy  0.7983333333333333\n"
     ]
    },
    {
     "name": "stderr",
     "output_type": "stream",
     "text": [
      "C:\\Users\\Beryl\\newminiconda3\\lib\\site-packages\\sklearn\\ensemble\\_base.py:166: FutureWarning: `base_estimator` was renamed to `estimator` in version 1.2 and will be removed in 1.4.\n",
      "  warnings.warn(\n",
      "C:\\Users\\Beryl\\newminiconda3\\lib\\site-packages\\sklearn\\ensemble\\_bagging.py:789: UserWarning: Some inputs do not have OOB scores. This probably means too few estimators were used to compute any reliable oob estimates.\n",
      "  warn(\n",
      "C:\\Users\\Beryl\\newminiconda3\\lib\\site-packages\\sklearn\\ensemble\\_bagging.py:795: RuntimeWarning: invalid value encountered in divide\n",
      "  oob_decision_function = predictions / predictions.sum(axis=1)[:, np.newaxis]\n"
     ]
    },
    {
     "name": "stdout",
     "output_type": "stream",
     "text": [
      "Bagging Classifier Accuracy  0.9141666666666667\n"
     ]
    }
   ],
   "source": [
    "from sklearn.ensemble import BaggingClassifier\n",
    "from sklearn.tree import DecisionTreeClassifier\n",
    "dec_tree_cls=DecisionTreeClassifier()\n",
    "dec_tree_cls.fit(X_train,y_train)\n",
    "y_pred_dec=dec_tree_cls.predict(X_test)\n",
    "print(\"Decision Tree Accuracy \",dec_tree_cls.score(X_test,y_test))\n",
    "#number of base classifier\n",
    "no_of_trees=25\n",
    "#bagging classifier\n",
    "bag_cls=BaggingClassifier(base_estimator=dec_tree_cls,n_estimators=no_of_trees,random_state=10, bootstrap=True, oob_score=True)\n",
    "bag_cls.fit(X_train,y_train)\n",
    "bag_cls.predict(X_test)\n",
    "print(\"Bagging Classifier Accuracy \",bag_cls.score(X_test,y_test))"
   ]
  },
  {
   "cell_type": "code",
   "execution_count": 32,
   "metadata": {
    "colab": {
     "base_uri": "https://localhost:8080/"
    },
    "id": "ib9u6vbgRWCo",
    "outputId": "10ca8a88-2e19-4c9c-9251-69b70dc255a1"
   },
   "outputs": [
    {
     "name": "stdout",
     "output_type": "stream",
     "text": [
      "KNN Accuracy  0.9283333333333333\n"
     ]
    },
    {
     "name": "stderr",
     "output_type": "stream",
     "text": [
      "C:\\Users\\Beryl\\newminiconda3\\lib\\site-packages\\sklearn\\ensemble\\_bagging.py:789: UserWarning: Some inputs do not have OOB scores. This probably means too few estimators were used to compute any reliable oob estimates.\n",
      "  warn(\n",
      "C:\\Users\\Beryl\\newminiconda3\\lib\\site-packages\\sklearn\\ensemble\\_bagging.py:795: RuntimeWarning: invalid value encountered in divide\n",
      "  oob_decision_function = predictions / predictions.sum(axis=1)[:, np.newaxis]\n"
     ]
    },
    {
     "name": "stdout",
     "output_type": "stream",
     "text": [
      "Bagging Classifier Accuracy  0.9291666666666667\n"
     ]
    }
   ],
   "source": [
    "from sklearn.neighbors import KNeighborsClassifier\n",
    "knn_cls=KNeighborsClassifier(n_neighbors=12)\n",
    "knn_cls.fit(X_train,y_train)\n",
    "y_pred_knn=knn_cls.predict(X_test)\n",
    "print(\"KNN Accuracy \",knn_cls.score(X_test,y_test))\n",
    "#number of base classifier\n",
    "no_of_trees=5\n",
    "#bagging classifier\n",
    "bag_cls=BaggingClassifier(estimator=knn_cls,n_estimators=no_of_trees,random_state=10, bootstrap=True, oob_score=True)\n",
    "bag_cls.fit(X_train,y_train)\n",
    "bag_cls.predict(X_test)\n",
    "print(\"Bagging Classifier Accuracy \",bag_cls.score(X_test,y_test))"
   ]
  },
  {
   "cell_type": "code",
   "execution_count": 33,
   "metadata": {
    "colab": {
     "base_uri": "https://localhost:8080/"
    },
    "id": "geswCJAaSSyO",
    "outputId": "7fb2e836-7387-49db-f788-dd0e8c2f3f23"
   },
   "outputs": [
    {
     "data": {
      "text/plain": [
       "0.6625"
      ]
     },
     "execution_count": 33,
     "metadata": {},
     "output_type": "execute_result"
    }
   ],
   "source": [
    "from sklearn.ensemble import AdaBoostClassifier\n",
    "model = AdaBoostClassifier()\n",
    "model.fit(X_train, y_train)\n",
    "model.score(X_test,y_test)"
   ]
  },
  {
   "cell_type": "code",
   "execution_count": 34,
   "metadata": {
    "colab": {
     "base_uri": "https://localhost:8080/"
    },
    "id": "cnNJ045FS14-",
    "outputId": "690fe9de-3288-45cc-e498-aeab90d495c4"
   },
   "outputs": [
    {
     "data": {
      "text/plain": [
       "0.9283333333333333"
      ]
     },
     "execution_count": 34,
     "metadata": {},
     "output_type": "execute_result"
    }
   ],
   "source": [
    "import xgboost as xgb\n",
    "model=xgb.XGBClassifier(random_state=1,learning_rate=0.75)\n",
    "model.fit(X_train, y_train)\n",
    "model.score(X_test,y_test)"
   ]
  },
  {
   "cell_type": "code",
   "execution_count": 35,
   "metadata": {
    "colab": {
     "base_uri": "https://localhost:8080/"
    },
    "id": "IcODCsth12rX",
    "outputId": "5b39b5c1-17ab-46fa-abee-1f019b74dbc8"
   },
   "outputs": [
    {
     "name": "stdout",
     "output_type": "stream",
     "text": [
      "accuracy: 0.9575 \n",
      "\n",
      "              precision    recall  f1-score   support\n",
      "\n",
      "           0       0.97      1.00      0.98       118\n",
      "           1       0.98      0.98      0.98       161\n",
      "           2       0.93      0.94      0.93       112\n",
      "           3       0.92      0.91      0.92       105\n",
      "           4       0.97      0.94      0.96       107\n",
      "           5       0.99      0.95      0.97       103\n",
      "           6       0.97      0.99      0.98       116\n",
      "           7       0.94      0.98      0.96       126\n",
      "           8       0.96      0.94      0.95       140\n",
      "           9       0.93      0.92      0.92       112\n",
      "\n",
      "    accuracy                           0.96      1200\n",
      "   macro avg       0.96      0.96      0.96      1200\n",
      "weighted avg       0.96      0.96      0.96      1200\n",
      "\n"
     ]
    }
   ],
   "source": [
    "from sklearn import svm\n",
    "clf = svm.SVC()\n",
    "clf.fit(X_train, y_train)\n",
    "\n",
    "y_pred = clf.predict(X_test)\n",
    "\n",
    "# accuracy\n",
    "print(\"accuracy:\", metrics.accuracy_score(y_true=y_test, y_pred=y_pred), \"\\n\")\n",
    "print(metrics.classification_report(y_true=y_test, y_pred=y_pred))"
   ]
  },
  {
   "cell_type": "code",
   "execution_count": 36,
   "metadata": {
    "colab": {
     "base_uri": "https://localhost:8080/"
    },
    "id": "4wmkKyVa12id",
    "outputId": "bb54033a-0610-4909-db02-8d1464ebe755"
   },
   "outputs": [
    {
     "name": "stdout",
     "output_type": "stream",
     "text": [
      "accuracy: 0.9075 \n",
      "\n",
      "              precision    recall  f1-score   support\n",
      "\n",
      "           0       0.93      0.97      0.95       118\n",
      "           1       0.96      0.96      0.96       161\n",
      "           2       0.85      0.91      0.88       112\n",
      "           3       0.88      0.87      0.88       105\n",
      "           4       0.89      0.90      0.89       107\n",
      "           5       0.87      0.88      0.88       103\n",
      "           6       0.94      0.96      0.95       116\n",
      "           7       0.91      0.94      0.93       126\n",
      "           8       0.93      0.81      0.87       140\n",
      "           9       0.87      0.86      0.86       112\n",
      "\n",
      "    accuracy                           0.91      1200\n",
      "   macro avg       0.90      0.91      0.90      1200\n",
      "weighted avg       0.91      0.91      0.91      1200\n",
      "\n"
     ]
    }
   ],
   "source": [
    "clf = svm.SVC(C=1.0, kernel='linear', degree=3, gamma='auto')\n",
    "clf.fit(X_train, y_train)\n",
    "\n",
    "y_pred = clf.predict(X_test)\n",
    "\n",
    "# accuracy\n",
    "print(\"accuracy:\", metrics.accuracy_score(y_true=y_test, y_pred=y_pred), \"\\n\")\n",
    "print(metrics.classification_report(y_true=y_test, y_pred=y_pred))"
   ]
  },
  {
   "cell_type": "code",
   "execution_count": 37,
   "metadata": {
    "colab": {
     "base_uri": "https://localhost:8080/"
    },
    "id": "RrwG3bH412fa",
    "outputId": "ee256f80-ad59-4dec-d830-4bb5c6ca9936"
   },
   "outputs": [
    {
     "name": "stdout",
     "output_type": "stream",
     "text": [
      "accuracy: 0.9433333333333334 \n",
      "\n",
      "              precision    recall  f1-score   support\n",
      "\n",
      "           0       0.91      0.97      0.94       118\n",
      "           1       0.96      0.98      0.97       161\n",
      "           2       0.89      0.93      0.91       112\n",
      "           3       0.93      0.89      0.91       105\n",
      "           4       0.99      0.94      0.97       107\n",
      "           5       0.94      0.96      0.95       103\n",
      "           6       0.98      0.96      0.97       116\n",
      "           7       0.95      0.97      0.96       126\n",
      "           8       0.95      0.91      0.93       140\n",
      "           9       0.93      0.92      0.92       112\n",
      "\n",
      "    accuracy                           0.94      1200\n",
      "   macro avg       0.94      0.94      0.94      1200\n",
      "weighted avg       0.94      0.94      0.94      1200\n",
      "\n"
     ]
    }
   ],
   "source": [
    "clf = svm.SVC(C=1.0, kernel='poly', degree=3, gamma='auto')\n",
    "clf.fit(X_train, y_train)\n",
    "\n",
    "y_pred = clf.predict(X_test)\n",
    "\n",
    "# accuracy\n",
    "print(\"accuracy:\", metrics.accuracy_score(y_true=y_test, y_pred=y_pred), \"\\n\")\n",
    "print(metrics.classification_report(y_true=y_test, y_pred=y_pred))"
   ]
  },
  {
   "cell_type": "code",
   "execution_count": 38,
   "metadata": {
    "colab": {
     "base_uri": "https://localhost:8080/"
    },
    "id": "LG8FH0q512RX",
    "outputId": "0830a2fd-5a26-41ac-8c78-1fd8941258f5"
   },
   "outputs": [
    {
     "name": "stdout",
     "output_type": "stream",
     "text": [
      "accuracy: 0.09333333333333334 \n",
      "\n",
      "              precision    recall  f1-score   support\n",
      "\n",
      "           0       0.00      0.00      0.00       118\n",
      "           1       0.00      0.00      0.00       161\n",
      "           2       0.09      1.00      0.17       112\n",
      "           3       0.00      0.00      0.00       105\n",
      "           4       0.00      0.00      0.00       107\n",
      "           5       0.00      0.00      0.00       103\n",
      "           6       0.00      0.00      0.00       116\n",
      "           7       0.00      0.00      0.00       126\n",
      "           8       0.00      0.00      0.00       140\n",
      "           9       0.00      0.00      0.00       112\n",
      "\n",
      "    accuracy                           0.09      1200\n",
      "   macro avg       0.01      0.10      0.02      1200\n",
      "weighted avg       0.01      0.09      0.02      1200\n",
      "\n"
     ]
    },
    {
     "name": "stderr",
     "output_type": "stream",
     "text": [
      "C:\\Users\\Beryl\\newminiconda3\\lib\\site-packages\\sklearn\\metrics\\_classification.py:1344: UndefinedMetricWarning: Precision and F-score are ill-defined and being set to 0.0 in labels with no predicted samples. Use `zero_division` parameter to control this behavior.\n",
      "  _warn_prf(average, modifier, msg_start, len(result))\n",
      "C:\\Users\\Beryl\\newminiconda3\\lib\\site-packages\\sklearn\\metrics\\_classification.py:1344: UndefinedMetricWarning: Precision and F-score are ill-defined and being set to 0.0 in labels with no predicted samples. Use `zero_division` parameter to control this behavior.\n",
      "  _warn_prf(average, modifier, msg_start, len(result))\n",
      "C:\\Users\\Beryl\\newminiconda3\\lib\\site-packages\\sklearn\\metrics\\_classification.py:1344: UndefinedMetricWarning: Precision and F-score are ill-defined and being set to 0.0 in labels with no predicted samples. Use `zero_division` parameter to control this behavior.\n",
      "  _warn_prf(average, modifier, msg_start, len(result))\n"
     ]
    }
   ],
   "source": [
    "clf = svm.SVC(C=1.0, kernel='rbf', degree=3, gamma='auto')\n",
    "clf.fit(X_train, y_train)\n",
    "\n",
    "y_pred = clf.predict(X_test)\n",
    "\n",
    "# accuracy\n",
    "print(\"accuracy:\", metrics.accuracy_score(y_true=y_test, y_pred=y_pred), \"\\n\")\n",
    "print(metrics.classification_report(y_true=y_test, y_pred=y_pred))"
   ]
  },
  {
   "cell_type": "code",
   "execution_count": 39,
   "metadata": {
    "colab": {
     "base_uri": "https://localhost:8080/"
    },
    "id": "gECyZh-93mmd",
    "outputId": "f92f1d8d-d700-487b-cf85-5c966cc9c452"
   },
   "outputs": [
    {
     "name": "stdout",
     "output_type": "stream",
     "text": [
      "accuracy: 0.09333333333333334 \n",
      "\n",
      "              precision    recall  f1-score   support\n",
      "\n",
      "           0       0.00      0.00      0.00       118\n",
      "           1       0.00      0.00      0.00       161\n",
      "           2       0.09      1.00      0.17       112\n",
      "           3       0.00      0.00      0.00       105\n",
      "           4       0.00      0.00      0.00       107\n",
      "           5       0.00      0.00      0.00       103\n",
      "           6       0.00      0.00      0.00       116\n",
      "           7       0.00      0.00      0.00       126\n",
      "           8       0.00      0.00      0.00       140\n",
      "           9       0.00      0.00      0.00       112\n",
      "\n",
      "    accuracy                           0.09      1200\n",
      "   macro avg       0.01      0.10      0.02      1200\n",
      "weighted avg       0.01      0.09      0.02      1200\n",
      "\n"
     ]
    },
    {
     "name": "stderr",
     "output_type": "stream",
     "text": [
      "C:\\Users\\Beryl\\newminiconda3\\lib\\site-packages\\sklearn\\metrics\\_classification.py:1344: UndefinedMetricWarning: Precision and F-score are ill-defined and being set to 0.0 in labels with no predicted samples. Use `zero_division` parameter to control this behavior.\n",
      "  _warn_prf(average, modifier, msg_start, len(result))\n",
      "C:\\Users\\Beryl\\newminiconda3\\lib\\site-packages\\sklearn\\metrics\\_classification.py:1344: UndefinedMetricWarning: Precision and F-score are ill-defined and being set to 0.0 in labels with no predicted samples. Use `zero_division` parameter to control this behavior.\n",
      "  _warn_prf(average, modifier, msg_start, len(result))\n",
      "C:\\Users\\Beryl\\newminiconda3\\lib\\site-packages\\sklearn\\metrics\\_classification.py:1344: UndefinedMetricWarning: Precision and F-score are ill-defined and being set to 0.0 in labels with no predicted samples. Use `zero_division` parameter to control this behavior.\n",
      "  _warn_prf(average, modifier, msg_start, len(result))\n"
     ]
    }
   ],
   "source": [
    "clf = svm.SVC(C=1.0, kernel='sigmoid', degree=3, gamma='auto')\n",
    "clf.fit(X_train, y_train)\n",
    "\n",
    "y_pred = clf.predict(X_test)\n",
    "\n",
    "# accuracy\n",
    "print(\"accuracy:\", metrics.accuracy_score(y_true=y_test, y_pred=y_pred), \"\\n\")\n",
    "print(metrics.classification_report(y_true=y_test, y_pred=y_pred))"
   ]
  },
  {
   "cell_type": "code",
   "execution_count": 40,
   "metadata": {
    "colab": {
     "base_uri": "https://localhost:8080/"
    },
    "id": "Jp-cC1ET3mjG",
    "outputId": "d55c7349-be1a-4b68-e856-e1d798d800dc"
   },
   "outputs": [
    {
     "name": "stdout",
     "output_type": "stream",
     "text": [
      "accuracy: 0.8975 \n",
      "\n",
      "              precision    recall  f1-score   support\n",
      "\n",
      "           0       0.93      0.93      0.93       118\n",
      "           1       0.99      0.95      0.97       161\n",
      "           2       0.83      0.88      0.86       112\n",
      "           3       0.83      0.89      0.86       105\n",
      "           4       0.87      0.84      0.86       107\n",
      "           5       0.87      0.89      0.88       103\n",
      "           6       0.92      0.96      0.94       116\n",
      "           7       0.97      0.89      0.93       126\n",
      "           8       0.93      0.87      0.90       140\n",
      "           9       0.79      0.85      0.82       112\n",
      "\n",
      "    accuracy                           0.90      1200\n",
      "   macro avg       0.89      0.90      0.89      1200\n",
      "weighted avg       0.90      0.90      0.90      1200\n",
      "\n"
     ]
    }
   ],
   "source": [
    "from sklearn.neural_network import MLPClassifier\n",
    "clf = MLPClassifier()\n",
    "clf.fit(X_train, y_train)\n",
    "\n",
    "y_pred = clf.predict(X_test)\n",
    "\n",
    "# accuracy\n",
    "print(\"accuracy:\", metrics.accuracy_score(y_true=y_test, y_pred=y_pred), \"\\n\")\n",
    "print(metrics.classification_report(y_true=y_test, y_pred=y_pred))"
   ]
  },
  {
   "cell_type": "code",
   "execution_count": 41,
   "metadata": {
    "colab": {
     "base_uri": "https://localhost:8080/"
    },
    "id": "ZUcSq2vd3mgr",
    "outputId": "aa27d1a6-9373-4bd1-b1fc-c6e1b76d4f41"
   },
   "outputs": [
    {
     "name": "stdout",
     "output_type": "stream",
     "text": [
      "accuracy: 0.8683333333333333 \n",
      "\n",
      "              precision    recall  f1-score   support\n",
      "\n",
      "           0       0.93      0.93      0.93       118\n",
      "           1       0.93      0.94      0.93       161\n",
      "           2       0.83      0.90      0.86       112\n",
      "           3       0.82      0.82      0.82       105\n",
      "           4       0.89      0.80      0.84       107\n",
      "           5       0.84      0.82      0.83       103\n",
      "           6       0.92      0.95      0.94       116\n",
      "           7       0.90      0.88      0.89       126\n",
      "           8       0.85      0.76      0.80       140\n",
      "           9       0.75      0.87      0.80       112\n",
      "\n",
      "    accuracy                           0.87      1200\n",
      "   macro avg       0.87      0.87      0.87      1200\n",
      "weighted avg       0.87      0.87      0.87      1200\n",
      "\n"
     ]
    }
   ],
   "source": [
    "clf = MLPClassifier(hidden_layer_sizes=(100, 100), activation='relu', solver='adam', random_state=42)\n",
    "clf.fit(X_train, y_train)\n",
    "\n",
    "y_pred = clf.predict(X_test)\n",
    "\n",
    "# accuracy\n",
    "print(\"accuracy:\", metrics.accuracy_score(y_true=y_test, y_pred=y_pred), \"\\n\")\n",
    "print(metrics.classification_report(y_true=y_test, y_pred=y_pred))"
   ]
  },
  {
   "cell_type": "code",
   "execution_count": 42,
   "metadata": {
    "colab": {
     "base_uri": "https://localhost:8080/"
    },
    "id": "y5nUXxZ5EMBi",
    "outputId": "40f9ca7b-3d5b-4ce7-e2a1-d4f2a68bf617"
   },
   "outputs": [
    {
     "name": "stdout",
     "output_type": "stream",
     "text": [
      "accuracy: 0.9258333333333333 \n",
      "\n",
      "              precision    recall  f1-score   support\n",
      "\n",
      "           0       0.94      0.99      0.97       118\n",
      "           1       0.97      0.96      0.97       161\n",
      "           2       0.90      0.96      0.93       112\n",
      "           3       0.87      0.90      0.88       105\n",
      "           4       0.90      0.91      0.90       107\n",
      "           5       0.97      0.83      0.89       103\n",
      "           6       0.93      0.99      0.96       116\n",
      "           7       0.94      0.94      0.94       126\n",
      "           8       0.95      0.86      0.90       140\n",
      "           9       0.88      0.91      0.89       112\n",
      "\n",
      "    accuracy                           0.93      1200\n",
      "   macro avg       0.92      0.92      0.92      1200\n",
      "weighted avg       0.93      0.93      0.93      1200\n",
      "\n"
     ]
    }
   ],
   "source": [
    "clf = MLPClassifier(hidden_layer_sizes=(100, 100), activation='logistic', solver='adam', random_state=42)\n",
    "clf.fit(X_train, y_train)\n",
    "\n",
    "y_pred = clf.predict(X_test)\n",
    "\n",
    "# accuracy\n",
    "print(\"accuracy:\", metrics.accuracy_score(y_true=y_test, y_pred=y_pred), \"\\n\")\n",
    "print(metrics.classification_report(y_true=y_test, y_pred=y_pred))"
   ]
  },
  {
   "cell_type": "code",
   "execution_count": 43,
   "metadata": {
    "colab": {
     "base_uri": "https://localhost:8080/"
    },
    "id": "Gfn8-1TjEkkG",
    "outputId": "db104dd7-4086-45f8-fdde-e9a4bdfb2003"
   },
   "outputs": [
    {
     "name": "stdout",
     "output_type": "stream",
     "text": [
      "accuracy: 0.8908333333333334 \n",
      "\n",
      "              precision    recall  f1-score   support\n",
      "\n",
      "           0       0.92      0.96      0.94       118\n",
      "           1       0.97      0.98      0.97       161\n",
      "           2       0.86      0.89      0.88       112\n",
      "           3       0.83      0.81      0.82       105\n",
      "           4       0.85      0.87      0.86       107\n",
      "           5       0.87      0.82      0.84       103\n",
      "           6       0.87      0.95      0.91       116\n",
      "           7       0.94      0.91      0.93       126\n",
      "           8       0.95      0.81      0.87       140\n",
      "           9       0.81      0.88      0.85       112\n",
      "\n",
      "    accuracy                           0.89      1200\n",
      "   macro avg       0.89      0.89      0.89      1200\n",
      "weighted avg       0.89      0.89      0.89      1200\n",
      "\n"
     ]
    }
   ],
   "source": [
    "clf = MLPClassifier(hidden_layer_sizes=(100, 100), activation='tanh', solver='adam', random_state=42)\n",
    "clf.fit(X_train, y_train)\n",
    "\n",
    "y_pred = clf.predict(X_test)\n",
    "\n",
    "# accuracy\n",
    "print(\"accuracy:\", metrics.accuracy_score(y_true=y_test, y_pred=y_pred), \"\\n\")\n",
    "print(metrics.classification_report(y_true=y_test, y_pred=y_pred))"
   ]
  },
  {
   "cell_type": "code",
   "execution_count": 44,
   "metadata": {
    "colab": {
     "base_uri": "https://localhost:8080/"
    },
    "id": "BP8ez5fg3meX",
    "outputId": "fe0bbb5d-ca6f-4d0b-b8ac-695be6536173"
   },
   "outputs": [
    {
     "name": "stdout",
     "output_type": "stream",
     "text": [
      "accuracy: 0.89 \n",
      "\n",
      "              precision    recall  f1-score   support\n",
      "\n",
      "           0       0.91      0.94      0.93       118\n",
      "           1       0.99      0.94      0.97       161\n",
      "           2       0.84      0.91      0.88       112\n",
      "           3       0.86      0.83      0.84       105\n",
      "           4       0.87      0.84      0.85       107\n",
      "           5       0.87      0.81      0.84       103\n",
      "           6       0.95      0.95      0.95       116\n",
      "           7       0.91      0.90      0.91       126\n",
      "           8       0.89      0.87      0.88       140\n",
      "           9       0.78      0.87      0.82       112\n",
      "\n",
      "    accuracy                           0.89      1200\n",
      "   macro avg       0.89      0.89      0.89      1200\n",
      "weighted avg       0.89      0.89      0.89      1200\n",
      "\n"
     ]
    }
   ],
   "source": [
    "clf = MLPClassifier(hidden_layer_sizes=(100, 100), activation='relu', solver='lbfgs', random_state=42)\n",
    "clf.fit(X_train, y_train)\n",
    "\n",
    "y_pred = clf.predict(X_test)\n",
    "\n",
    "# accuracy\n",
    "print(\"accuracy:\", metrics.accuracy_score(y_true=y_test, y_pred=y_pred), \"\\n\")\n",
    "print(metrics.classification_report(y_true=y_test, y_pred=y_pred))"
   ]
  },
  {
   "cell_type": "code",
   "execution_count": 45,
   "metadata": {
    "colab": {
     "base_uri": "https://localhost:8080/"
    },
    "id": "VdTIJjEk3mb0",
    "outputId": "96c9a509-5c69-4146-ba95-8ad663cab0a2"
   },
   "outputs": [
    {
     "name": "stdout",
     "output_type": "stream",
     "text": [
      "accuracy: 0.8516666666666667 \n",
      "\n",
      "              precision    recall  f1-score   support\n",
      "\n",
      "           0       0.95      0.92      0.94       118\n",
      "           1       0.96      0.95      0.95       161\n",
      "           2       0.82      0.85      0.83       112\n",
      "           3       0.77      0.79      0.78       105\n",
      "           4       0.84      0.83      0.84       107\n",
      "           5       0.72      0.74      0.73       103\n",
      "           6       0.88      0.92      0.90       116\n",
      "           7       0.92      0.88      0.90       126\n",
      "           8       0.84      0.77      0.81       140\n",
      "           9       0.76      0.81      0.78       112\n",
      "\n",
      "    accuracy                           0.85      1200\n",
      "   macro avg       0.85      0.85      0.85      1200\n",
      "weighted avg       0.85      0.85      0.85      1200\n",
      "\n"
     ]
    }
   ],
   "source": [
    "clf = MLPClassifier(hidden_layer_sizes=(100, 100), activation='identity', solver='lbfgs', random_state=42)\n",
    "clf.fit(X_train, y_train)\n",
    "\n",
    "y_pred = clf.predict(X_test)\n",
    "\n",
    "# accuracy\n",
    "print(\"accuracy:\", metrics.accuracy_score(y_true=y_test, y_pred=y_pred), \"\\n\")\n",
    "print(metrics.classification_report(y_true=y_test, y_pred=y_pred))"
   ]
  },
  {
   "cell_type": "code",
   "execution_count": 47,
   "metadata": {
    "colab": {
     "base_uri": "https://localhost:8080/"
    },
    "id": "0fFwa4Qa3mUu",
    "outputId": "a81bdcd7-d280-49a4-86dc-b18888a13780"
   },
   "outputs": [
    {
     "name": "stdout",
     "output_type": "stream",
     "text": [
      "accuracy: 0.9083333333333333 \n",
      "\n",
      "              precision    recall  f1-score   support\n",
      "\n",
      "           0       0.91      0.94      0.93       118\n",
      "           1       0.98      0.96      0.97       161\n",
      "           2       0.88      0.88      0.88       112\n",
      "           3       0.86      0.84      0.85       105\n",
      "           4       0.94      0.89      0.91       107\n",
      "           5       0.87      0.82      0.84       103\n",
      "           6       0.90      0.96      0.93       116\n",
      "           7       0.90      0.95      0.93       126\n",
      "           8       0.93      0.93      0.93       140\n",
      "           9       0.88      0.88      0.88       112\n",
      "\n",
      "    accuracy                           0.91      1200\n",
      "   macro avg       0.90      0.90      0.90      1200\n",
      "weighted avg       0.91      0.91      0.91      1200\n",
      "\n"
     ]
    },
    {
     "name": "stderr",
     "output_type": "stream",
     "text": [
      "C:\\Users\\Beryl\\newminiconda3\\lib\\site-packages\\sklearn\\neural_network\\_multilayer_perceptron.py:541: ConvergenceWarning: lbfgs failed to converge (status=1):\n",
      "STOP: TOTAL NO. of ITERATIONS REACHED LIMIT.\n",
      "\n",
      "Increase the number of iterations (max_iter) or scale the data as shown in:\n",
      "    https://scikit-learn.org/stable/modules/preprocessing.html\n",
      "  self.n_iter_ = _check_optimize_result(\"lbfgs\", opt_res, self.max_iter)\n"
     ]
    }
   ],
   "source": [
    "clf = MLPClassifier(hidden_layer_sizes=(100, 100), activation='logistic', solver='lbfgs', random_state=42)\n",
    "clf.fit(X_train, y_train)\n",
    "\n",
    "y_pred = clf.predict(X_test)\n",
    "\n",
    "# accuracy\n",
    "print(\"accuracy:\", metrics.accuracy_score(y_true=y_test, y_pred=y_pred), \"\\n\")\n",
    "print(metrics.classification_report(y_true=y_test, y_pred=y_pred))"
   ]
  },
  {
   "cell_type": "code",
   "execution_count": 49,
   "metadata": {
    "colab": {
     "base_uri": "https://localhost:8080/"
    },
    "id": "_7FCNRI_5S1i",
    "outputId": "e0645964-5ab7-4c58-e579-23169f35ae7b"
   },
   "outputs": [
    {
     "name": "stdout",
     "output_type": "stream",
     "text": [
      "accuracy: 0.9066666666666666 \n",
      "\n",
      "              precision    recall  f1-score   support\n",
      "\n",
      "           0       0.94      0.94      0.94       118\n",
      "           1       0.98      0.97      0.97       161\n",
      "           2       0.82      0.92      0.87       112\n",
      "           3       0.86      0.86      0.86       105\n",
      "           4       0.91      0.87      0.89       107\n",
      "           5       0.88      0.84      0.86       103\n",
      "           6       0.92      0.95      0.94       116\n",
      "           7       0.94      0.93      0.93       126\n",
      "           8       0.92      0.87      0.90       140\n",
      "           9       0.86      0.88      0.87       112\n",
      "\n",
      "    accuracy                           0.91      1200\n",
      "   macro avg       0.90      0.90      0.90      1200\n",
      "weighted avg       0.91      0.91      0.91      1200\n",
      "\n"
     ]
    },
    {
     "name": "stderr",
     "output_type": "stream",
     "text": [
      "C:\\Users\\Beryl\\newminiconda3\\lib\\site-packages\\sklearn\\neural_network\\_multilayer_perceptron.py:541: ConvergenceWarning: lbfgs failed to converge (status=1):\n",
      "STOP: TOTAL NO. of ITERATIONS REACHED LIMIT.\n",
      "\n",
      "Increase the number of iterations (max_iter) or scale the data as shown in:\n",
      "    https://scikit-learn.org/stable/modules/preprocessing.html\n",
      "  self.n_iter_ = _check_optimize_result(\"lbfgs\", opt_res, self.max_iter)\n"
     ]
    }
   ],
   "source": [
    "clf = MLPClassifier(hidden_layer_sizes=(100, 100), activation='tanh', solver='lbfgs', random_state=42)\n",
    "clf.fit(X_train, y_train)\n",
    "\n",
    "y_pred = clf.predict(X_test)\n",
    "\n",
    "# accuracy\n",
    "print(\"accuracy:\", metrics.accuracy_score(y_true=y_test, y_pred=y_pred), \"\\n\")\n",
    "print(metrics.classification_report(y_true=y_test, y_pred=y_pred))"
   ]
  },
  {
   "cell_type": "code",
   "execution_count": 50,
   "metadata": {
    "colab": {
     "base_uri": "https://localhost:8080/"
    },
    "id": "Z7rEfIXW5Sxd",
    "outputId": "804e80ab-4b2b-4f63-e332-1c12274153f8"
   },
   "outputs": [
    {
     "name": "stdout",
     "output_type": "stream",
     "text": [
      "accuracy: 0.7666666666666667 \n",
      "\n",
      "              precision    recall  f1-score   support\n",
      "\n",
      "           0       0.89      0.95      0.92       118\n",
      "           1       0.97      0.95      0.96       161\n",
      "           2       0.89      0.84      0.86       112\n",
      "           3       0.34      0.85      0.49       105\n",
      "           4       0.83      0.88      0.85       107\n",
      "           5       0.80      0.67      0.73       103\n",
      "           6       0.94      0.91      0.93       116\n",
      "           7       0.88      0.90      0.89       126\n",
      "           8       0.71      0.04      0.07       140\n",
      "           9       0.83      0.76      0.79       112\n",
      "\n",
      "    accuracy                           0.77      1200\n",
      "   macro avg       0.81      0.77      0.75      1200\n",
      "weighted avg       0.82      0.77      0.75      1200\n",
      "\n"
     ]
    },
    {
     "name": "stderr",
     "output_type": "stream",
     "text": [
      "C:\\Users\\Beryl\\newminiconda3\\lib\\site-packages\\sklearn\\neural_network\\_multilayer_perceptron.py:686: ConvergenceWarning: Stochastic Optimizer: Maximum iterations (200) reached and the optimization hasn't converged yet.\n",
      "  warnings.warn(\n"
     ]
    }
   ],
   "source": [
    "clf = MLPClassifier(hidden_layer_sizes=(100, 100), activation='relu', solver='sgd', random_state=42)\n",
    "clf.fit(X_train, y_train)\n",
    "\n",
    "y_pred = clf.predict(X_test)\n",
    "\n",
    "# accuracy\n",
    "print(\"accuracy:\", metrics.accuracy_score(y_true=y_test, y_pred=y_pred), \"\\n\")\n",
    "print(metrics.classification_report(y_true=y_test, y_pred=y_pred))"
   ]
  },
  {
   "cell_type": "code",
   "execution_count": 51,
   "metadata": {
    "colab": {
     "base_uri": "https://localhost:8080/"
    },
    "id": "SX6YisMH5Suw",
    "outputId": "53a1de14-6617-4923-c24b-f061bf741abf"
   },
   "outputs": [
    {
     "name": "stdout",
     "output_type": "stream",
     "text": [
      "accuracy: 0.86 \n",
      "\n",
      "              precision    recall  f1-score   support\n",
      "\n",
      "           0       0.95      0.94      0.94       118\n",
      "           1       0.96      0.96      0.96       161\n",
      "           2       0.69      0.91      0.79       112\n",
      "           3       0.85      0.84      0.84       105\n",
      "           4       0.90      0.80      0.85       107\n",
      "           5       0.74      0.73      0.73       103\n",
      "           6       0.94      0.92      0.93       116\n",
      "           7       0.96      0.90      0.93       126\n",
      "           8       0.84      0.72      0.78       140\n",
      "           9       0.78      0.84      0.81       112\n",
      "\n",
      "    accuracy                           0.86      1200\n",
      "   macro avg       0.86      0.86      0.86      1200\n",
      "weighted avg       0.87      0.86      0.86      1200\n",
      "\n"
     ]
    }
   ],
   "source": [
    "clf = MLPClassifier(hidden_layer_sizes=(100, 100), activation='identity', solver='adam', random_state=42)\n",
    "clf.fit(X_train, y_train)\n",
    "\n",
    "y_pred = clf.predict(X_test)\n",
    "\n",
    "# accuracy\n",
    "print(\"accuracy:\", metrics.accuracy_score(y_true=y_test, y_pred=y_pred), \"\\n\")\n",
    "print(metrics.classification_report(y_true=y_test, y_pred=y_pred))"
   ]
  },
  {
   "cell_type": "code",
   "execution_count": 52,
   "metadata": {
    "colab": {
     "base_uri": "https://localhost:8080/"
    },
    "id": "iaSzaFlK5SsE",
    "outputId": "b6ab79ae-20c2-4a52-e941-855af1aa828d"
   },
   "outputs": [
    {
     "name": "stdout",
     "output_type": "stream",
     "text": [
      "accuracy: 0.8683333333333333 \n",
      "\n",
      "              precision    recall  f1-score   support\n",
      "\n",
      "           0       0.91      0.94      0.93       118\n",
      "           1       0.97      0.96      0.96       161\n",
      "           2       0.85      0.88      0.86       112\n",
      "           3       0.80      0.85      0.82       105\n",
      "           4       0.87      0.73      0.79       107\n",
      "           5       0.86      0.77      0.81       103\n",
      "           6       0.87      0.97      0.91       116\n",
      "           7       0.88      0.89      0.89       126\n",
      "           8       0.93      0.81      0.86       140\n",
      "           9       0.73      0.85      0.78       112\n",
      "\n",
      "    accuracy                           0.87      1200\n",
      "   macro avg       0.87      0.86      0.86      1200\n",
      "weighted avg       0.87      0.87      0.87      1200\n",
      "\n"
     ]
    },
    {
     "name": "stderr",
     "output_type": "stream",
     "text": [
      "C:\\Users\\Beryl\\newminiconda3\\lib\\site-packages\\sklearn\\neural_network\\_multilayer_perceptron.py:686: ConvergenceWarning: Stochastic Optimizer: Maximum iterations (200) reached and the optimization hasn't converged yet.\n",
      "  warnings.warn(\n"
     ]
    }
   ],
   "source": [
    "clf = MLPClassifier(hidden_layer_sizes=(100, 100), activation='logistic', solver='sgd', random_state=42)\n",
    "clf.fit(X_train, y_train)\n",
    "\n",
    "y_pred = clf.predict(X_test)\n",
    "\n",
    "# accuracy\n",
    "print(\"accuracy:\", metrics.accuracy_score(y_true=y_test, y_pred=y_pred), \"\\n\")\n",
    "print(metrics.classification_report(y_true=y_test, y_pred=y_pred))"
   ]
  },
  {
   "cell_type": "code",
   "execution_count": 53,
   "metadata": {
    "colab": {
     "base_uri": "https://localhost:8080/"
    },
    "id": "VC2LQg595Spf",
    "outputId": "13b6f286-0998-4b52-f94d-fc666691945f"
   },
   "outputs": [
    {
     "name": "stdout",
     "output_type": "stream",
     "text": [
      "accuracy: 0.8891666666666667 \n",
      "\n",
      "              precision    recall  f1-score   support\n",
      "\n",
      "           0       0.91      0.95      0.93       118\n",
      "           1       0.97      0.96      0.97       161\n",
      "           2       0.81      0.88      0.85       112\n",
      "           3       0.85      0.87      0.86       105\n",
      "           4       0.88      0.86      0.87       107\n",
      "           5       0.93      0.78      0.85       103\n",
      "           6       0.89      0.93      0.91       116\n",
      "           7       0.92      0.92      0.92       126\n",
      "           8       0.89      0.85      0.87       140\n",
      "           9       0.81      0.86      0.83       112\n",
      "\n",
      "    accuracy                           0.89      1200\n",
      "   macro avg       0.89      0.89      0.88      1200\n",
      "weighted avg       0.89      0.89      0.89      1200\n",
      "\n"
     ]
    },
    {
     "name": "stderr",
     "output_type": "stream",
     "text": [
      "C:\\Users\\Beryl\\newminiconda3\\lib\\site-packages\\sklearn\\neural_network\\_multilayer_perceptron.py:686: ConvergenceWarning: Stochastic Optimizer: Maximum iterations (200) reached and the optimization hasn't converged yet.\n",
      "  warnings.warn(\n"
     ]
    }
   ],
   "source": [
    "clf = MLPClassifier(hidden_layer_sizes=(100, 100), activation='tanh', solver='sgd', random_state=42)\n",
    "clf.fit(X_train, y_train)\n",
    "\n",
    "y_pred = clf.predict(X_test)\n",
    "\n",
    "# accuracy\n",
    "print(\"accuracy:\", metrics.accuracy_score(y_true=y_test, y_pred=y_pred), \"\\n\")\n",
    "print(metrics.classification_report(y_true=y_test, y_pred=y_pred))"
   ]
  },
  {
   "cell_type": "code",
   "execution_count": 54,
   "metadata": {
    "colab": {
     "base_uri": "https://localhost:8080/"
    },
    "id": "ZlOT1bde5SmZ",
    "outputId": "02c4d7b0-35e6-44ad-9420-876a790d6491"
   },
   "outputs": [
    {
     "name": "stdout",
     "output_type": "stream",
     "text": [
      "accuracy: 0.935 \n",
      "\n",
      "              precision    recall  f1-score   support\n",
      "\n",
      "           0       0.94      0.99      0.97       118\n",
      "           1       0.93      0.98      0.96       161\n",
      "           2       0.97      0.89      0.93       112\n",
      "           3       0.91      0.93      0.92       105\n",
      "           4       0.94      0.90      0.92       107\n",
      "           5       0.94      0.97      0.96       103\n",
      "           6       0.95      0.96      0.95       116\n",
      "           7       0.88      0.96      0.92       126\n",
      "           8       1.00      0.87      0.93       140\n",
      "           9       0.89      0.88      0.89       112\n",
      "\n",
      "    accuracy                           0.94      1200\n",
      "   macro avg       0.94      0.93      0.93      1200\n",
      "weighted avg       0.94      0.94      0.93      1200\n",
      "\n"
     ]
    }
   ],
   "source": [
    "clf = KNeighborsClassifier(n_neighbors=10)\n",
    "clf.fit(X_train, y_train)\n",
    "\n",
    "y_pred = clf.predict(X_test)\n",
    "\n",
    "# accuracy\n",
    "print(\"accuracy:\", metrics.accuracy_score(y_true=y_test, y_pred=y_pred), \"\\n\")\n",
    "print(metrics.classification_report(y_true=y_test, y_pred=y_pred))"
   ]
  },
  {
   "cell_type": "code",
   "execution_count": 55,
   "metadata": {
    "colab": {
     "base_uri": "https://localhost:8080/"
    },
    "id": "AyIfbar05Sjg",
    "outputId": "2c80ac9e-4e67-4f00-9d00-2686345b5125"
   },
   "outputs": [
    {
     "name": "stdout",
     "output_type": "stream",
     "text": [
      "accuracy: 0.9416666666666667 \n",
      "\n",
      "              precision    recall  f1-score   support\n",
      "\n",
      "           0       0.94      0.99      0.97       118\n",
      "           1       0.96      0.98      0.97       161\n",
      "           2       0.93      0.89      0.91       112\n",
      "           3       0.94      0.96      0.95       105\n",
      "           4       0.95      0.88      0.91       107\n",
      "           5       0.99      0.96      0.98       103\n",
      "           6       0.97      0.99      0.98       116\n",
      "           7       0.90      0.97      0.93       126\n",
      "           8       0.97      0.89      0.93       140\n",
      "           9       0.87      0.89      0.88       112\n",
      "\n",
      "    accuracy                           0.94      1200\n",
      "   macro avg       0.94      0.94      0.94      1200\n",
      "weighted avg       0.94      0.94      0.94      1200\n",
      "\n"
     ]
    }
   ],
   "source": [
    "clf = KNeighborsClassifier(n_neighbors=3)\n",
    "clf.fit(X_train, y_train)\n",
    "\n",
    "y_pred = clf.predict(X_test)\n",
    "\n",
    "# accuracy\n",
    "print(\"accuracy:\", metrics.accuracy_score(y_true=y_test, y_pred=y_pred), \"\\n\")\n",
    "print(metrics.classification_report(y_true=y_test, y_pred=y_pred))"
   ]
  },
  {
   "cell_type": "code",
   "execution_count": 56,
   "metadata": {
    "colab": {
     "base_uri": "https://localhost:8080/"
    },
    "id": "PCg0c5FF9Q5g",
    "outputId": "1db2f8e3-85c2-4ba7-8042-ab2a8f391740"
   },
   "outputs": [
    {
     "name": "stdout",
     "output_type": "stream",
     "text": [
      "accuracy: 0.9408333333333333 \n",
      "\n",
      "              precision    recall  f1-score   support\n",
      "\n",
      "           0       0.95      0.99      0.97       118\n",
      "           1       0.96      0.98      0.97       161\n",
      "           2       0.94      0.92      0.93       112\n",
      "           3       0.88      0.95      0.92       105\n",
      "           4       0.97      0.92      0.94       107\n",
      "           5       0.98      0.96      0.97       103\n",
      "           6       0.96      0.99      0.97       116\n",
      "           7       0.89      0.97      0.93       126\n",
      "           8       0.99      0.85      0.92       140\n",
      "           9       0.89      0.88      0.88       112\n",
      "\n",
      "    accuracy                           0.94      1200\n",
      "   macro avg       0.94      0.94      0.94      1200\n",
      "weighted avg       0.94      0.94      0.94      1200\n",
      "\n"
     ]
    }
   ],
   "source": [
    "clf = KNeighborsClassifier(n_neighbors=4)\n",
    "clf.fit(X_train, y_train)\n",
    "\n",
    "y_pred = clf.predict(X_test)\n",
    "\n",
    "# accuracy\n",
    "print(\"accuracy:\", metrics.accuracy_score(y_true=y_test, y_pred=y_pred), \"\\n\")\n",
    "print(metrics.classification_report(y_true=y_test, y_pred=y_pred))"
   ]
  },
  {
   "cell_type": "code",
   "execution_count": 57,
   "metadata": {
    "colab": {
     "base_uri": "https://localhost:8080/"
    },
    "id": "0ZJ5zMaM9WAW",
    "outputId": "78eb7f3c-1d72-4f5d-9d21-f2299ad26e86"
   },
   "outputs": [
    {
     "name": "stdout",
     "output_type": "stream",
     "text": [
      "accuracy: 0.9383333333333334 \n",
      "\n",
      "              precision    recall  f1-score   support\n",
      "\n",
      "           0       0.97      0.98      0.97       118\n",
      "           1       0.95      0.98      0.96       161\n",
      "           2       0.95      0.91      0.93       112\n",
      "           3       0.94      0.96      0.95       105\n",
      "           4       0.95      0.88      0.91       107\n",
      "           5       0.98      0.95      0.97       103\n",
      "           6       0.94      0.98      0.96       116\n",
      "           7       0.91      0.94      0.93       126\n",
      "           8       0.97      0.88      0.92       140\n",
      "           9       0.84      0.90      0.87       112\n",
      "\n",
      "    accuracy                           0.94      1200\n",
      "   macro avg       0.94      0.94      0.94      1200\n",
      "weighted avg       0.94      0.94      0.94      1200\n",
      "\n"
     ]
    }
   ],
   "source": [
    "clf = KNeighborsClassifier(n_neighbors=5)\n",
    "clf.fit(X_train, y_train)\n",
    "\n",
    "y_pred = clf.predict(X_test)\n",
    "\n",
    "# accuracy\n",
    "print(\"accuracy:\", metrics.accuracy_score(y_true=y_test, y_pred=y_pred), \"\\n\")\n",
    "print(metrics.classification_report(y_true=y_test, y_pred=y_pred))"
   ]
  },
  {
   "cell_type": "code",
   "execution_count": 58,
   "metadata": {
    "colab": {
     "base_uri": "https://localhost:8080/"
    },
    "id": "pn53eEIx9aqy",
    "outputId": "40e8e816-b737-487f-c375-1ec5367365f9"
   },
   "outputs": [
    {
     "name": "stdout",
     "output_type": "stream",
     "text": [
      "accuracy: 0.9291666666666667 \n",
      "\n",
      "              precision    recall  f1-score   support\n",
      "\n",
      "           0       0.95      0.99      0.97       118\n",
      "           1       0.95      0.98      0.96       161\n",
      "           2       0.90      0.93      0.92       112\n",
      "           3       0.88      0.96      0.92       105\n",
      "           4       0.93      0.95      0.94       107\n",
      "           5       0.95      0.92      0.94       103\n",
      "           6       0.97      0.97      0.97       116\n",
      "           7       0.85      0.94      0.89       126\n",
      "           8       0.98      0.82      0.89       140\n",
      "           9       0.95      0.81      0.88       112\n",
      "\n",
      "    accuracy                           0.93      1200\n",
      "   macro avg       0.93      0.93      0.93      1200\n",
      "weighted avg       0.93      0.93      0.93      1200\n",
      "\n"
     ]
    }
   ],
   "source": [
    "clf = KNeighborsClassifier(n_neighbors=2)\n",
    "clf.fit(X_train, y_train)\n",
    "\n",
    "y_pred = clf.predict(X_test)\n",
    "\n",
    "# accuracy\n",
    "print(\"accuracy:\", metrics.accuracy_score(y_true=y_test, y_pred=y_pred), \"\\n\")\n",
    "print(metrics.classification_report(y_true=y_test, y_pred=y_pred))"
   ]
  },
  {
   "cell_type": "code",
   "execution_count": 59,
   "metadata": {
    "id": "PGI4w-u0exdy"
   },
   "outputs": [],
   "source": [
    "import math\n",
    "import datetime\n",
    "import platform"
   ]
  },
  {
   "cell_type": "code",
   "execution_count": 60,
   "metadata": {
    "id": "wUsGPm5ce53Y"
   },
   "outputs": [],
   "source": [
    "train,test=train_test_split(data, test_size = 0.3)"
   ]
  },
  {
   "cell_type": "code",
   "execution_count": 61,
   "metadata": {
    "colab": {
     "base_uri": "https://localhost:8080/"
    },
    "id": "tt8rZxvYfh0G",
    "outputId": "df215c43-931d-4195-fac6-bb48872e31ab"
   },
   "outputs": [
    {
     "data": {
      "text/plain": [
       "<bound method NDFrame.head of       Label  pixel0  pixel1  pixel2  pixel3  pixel4  pixel5  pixel6  pixel7  \\\n",
       "231       6       0       0       0       0       0       0       0       0   \n",
       "3200      1       0       0       0       0       0       0       0       0   \n",
       "4549      2       0       0       0       0       0       0       0       0   \n",
       "4312      2       0       0       0       0       0       0       0       0   \n",
       "5932      9       0       0       0       0       0       0       0       0   \n",
       "...     ...     ...     ...     ...     ...     ...     ...     ...     ...   \n",
       "4264      5       0       0       0       0       0       0       0       0   \n",
       "4336      9       0       0       0       0       0       0       0       0   \n",
       "3694      6       0       0       0       0       0       0       0       0   \n",
       "1243      4       0       0       0       0       0       0       0       0   \n",
       "594       1       0       0       0       0       0       0       0       0   \n",
       "\n",
       "      pixel8  ...  pixel774  pixel775  pixel776  pixel777  pixel778  pixel779  \\\n",
       "231        0  ...         0         0         0         0         0         0   \n",
       "3200       0  ...         0         0         0         0         0         0   \n",
       "4549       0  ...         0         0         0         0         0         0   \n",
       "4312       0  ...         0         0         0         0         0         0   \n",
       "5932       0  ...         0         0         0         0         0         0   \n",
       "...      ...  ...       ...       ...       ...       ...       ...       ...   \n",
       "4264       0  ...         0         0         0         0         0         0   \n",
       "4336       0  ...         0         0         0         0         0         0   \n",
       "3694       0  ...         0         0         0         0         0         0   \n",
       "1243       0  ...         0         0         0         0         0         0   \n",
       "594        0  ...         0         0         0         0         0         0   \n",
       "\n",
       "      pixel780  pixel781  pixel782  pixel783  \n",
       "231          0         0         0         0  \n",
       "3200         0         0         0         0  \n",
       "4549         0         0         0         0  \n",
       "4312         0         0         0         0  \n",
       "5932         0         0         0         0  \n",
       "...        ...       ...       ...       ...  \n",
       "4264         0         0         0         0  \n",
       "4336         0         0         0         0  \n",
       "3694         0         0         0         0  \n",
       "1243         0         0         0         0  \n",
       "594          0         0         0         0  \n",
       "\n",
       "[4200 rows x 785 columns]>"
      ]
     },
     "execution_count": 61,
     "metadata": {},
     "output_type": "execute_result"
    }
   ],
   "source": [
    "train.head"
   ]
  },
  {
   "cell_type": "code",
   "execution_count": 62,
   "metadata": {
    "colab": {
     "base_uri": "https://localhost:8080/"
    },
    "id": "RMIQQnL7fjgQ",
    "outputId": "f366a1f6-0196-48dd-9c9b-d90608edd0a1"
   },
   "outputs": [
    {
     "name": "stdout",
     "output_type": "stream",
     "text": [
      "<class 'pandas.core.frame.DataFrame'>\n",
      "Int64Index: 4200 entries, 231 to 594\n",
      "Columns: 785 entries, Label to pixel783\n",
      "dtypes: int64(785)\n",
      "memory usage: 25.2 MB\n"
     ]
    },
    {
     "data": {
      "text/plain": [
       "(None, (4200, 785))"
      ]
     },
     "execution_count": 62,
     "metadata": {},
     "output_type": "execute_result"
    }
   ],
   "source": [
    "train.info(), train.shape"
   ]
  },
  {
   "cell_type": "code",
   "execution_count": 63,
   "metadata": {
    "colab": {
     "base_uri": "https://localhost:8080/"
    },
    "id": "iBp7t0scfoM_",
    "outputId": "d71140c0-720d-423f-e7f8-1784dadfe254"
   },
   "outputs": [
    {
     "name": "stdout",
     "output_type": "stream",
     "text": [
      "<class 'pandas.core.frame.DataFrame'>\n",
      "Int64Index: 1800 entries, 3325 to 4028\n",
      "Columns: 785 entries, Label to pixel783\n",
      "dtypes: int64(785)\n",
      "memory usage: 10.8 MB\n"
     ]
    },
    {
     "data": {
      "text/plain": [
       "(None, (1800, 785))"
      ]
     },
     "execution_count": 63,
     "metadata": {},
     "output_type": "execute_result"
    }
   ],
   "source": [
    "test.info(),  test.shape"
   ]
  },
  {
   "cell_type": "code",
   "execution_count": 64,
   "metadata": {
    "id": "wIEWkQKbfqRl"
   },
   "outputs": [],
   "source": [
    "X = train.iloc[:, 1:785]\n",
    "y = train.iloc[:, 0]\n",
    "\n",
    "X_test = test.iloc[:, 0:784]"
   ]
  },
  {
   "cell_type": "code",
   "execution_count": 65,
   "metadata": {
    "colab": {
     "base_uri": "https://localhost:8080/"
    },
    "id": "uokC63yFnEJP",
    "outputId": "3e3f88b3-d89e-4640-ed71-deb6d2515ed5"
   },
   "outputs": [
    {
     "data": {
      "text/plain": [
       "pixel0      int64\n",
       "pixel1      int64\n",
       "pixel2      int64\n",
       "pixel3      int64\n",
       "pixel4      int64\n",
       "            ...  \n",
       "pixel779    int64\n",
       "pixel780    int64\n",
       "pixel781    int64\n",
       "pixel782    int64\n",
       "pixel783    int64\n",
       "Length: 784, dtype: object"
      ]
     },
     "execution_count": 65,
     "metadata": {},
     "output_type": "execute_result"
    }
   ],
   "source": [
    "X.dtypes"
   ]
  },
  {
   "cell_type": "code",
   "execution_count": 66,
   "metadata": {
    "id": "VzZ4kkZwfuZ-"
   },
   "outputs": [],
   "source": [
    "X_tsn = X/255\n",
    "\n",
    "from sklearn.manifold import TSNE\n",
    "tsne = TSNE()\n",
    "\n",
    "tsne_res = tsne.fit_transform(X_tsn)"
   ]
  },
  {
   "cell_type": "code",
   "execution_count": 67,
   "metadata": {
    "colab": {
     "base_uri": "https://localhost:8080/",
     "height": 974
    },
    "id": "c-cx7kDLfw7P",
    "outputId": "ad392157-ffa9-4bdd-c085-726613513911"
   },
   "outputs": [
    {
     "data": {
      "image/png": "[encoded data removed]",
      "text/plain": [
       "<Figure size 1400x1200 with 2 Axes>"
      ]
     },
     "metadata": {},
     "output_type": "display_data"
    }
   ],
   "source": [
    "plt.figure(figsize=(14, 12))\n",
    "plt.scatter(tsne_res[:,0], tsne_res[:,1], c=y, s=2)\n",
    "plt.xticks([])\n",
    "plt.yticks([])\n",
    "plt.colorbar();"
   ]
  },
  {
   "cell_type": "code",
   "execution_count": null,
   "metadata": {
    "id": "dBjuy_ieUDno"
   },
   "outputs": [],
   "source": []
  }
 ],
 "metadata": {
  "colab": {
   "provenance": []
  },
  "kernelspec": {
   "display_name": "Python 3 (ipykernel)",
   "language": "python",
   "name": "python3"
  },
  "language_info": {
   "codemirror_mode": {
    "name": "ipython",
    "version": 3
   },
   "file_extension": ".py",
   "mimetype": "text/x-python",
   "name": "python",
   "nbconvert_exporter": "python",
   "pygments_lexer": "ipython3",
   "version": "3.10.9"
  }
 },
 "nbformat": 4,
 "nbformat_minor": 1
}
